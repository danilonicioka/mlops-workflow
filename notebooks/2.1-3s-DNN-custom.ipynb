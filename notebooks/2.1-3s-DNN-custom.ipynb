{
 "cells": [
  {
   "cell_type": "code",
   "execution_count": 203,
   "metadata": {},
   "outputs": [],
   "source": [
    "%%capture\n",
    "!pip install -r requirements-components-test.txt"
   ]
  },
  {
   "cell_type": "code",
   "execution_count": 204,
   "metadata": {
    "id": "4kQGfDn2_KVc"
   },
   "outputs": [],
   "source": [
    "import torch\n",
    "import numpy as np"
   ]
  },
  {
   "cell_type": "code",
   "execution_count": 205,
   "metadata": {
    "colab": {
     "base_uri": "https://localhost:8080/",
     "height": 35
    },
    "id": "Ke6FQ2ew35ix",
    "outputId": "315dff67-1161-4d51-e023-23901df285a7"
   },
   "outputs": [
    {
     "data": {
      "text/plain": [
       "'1.25.2'"
      ]
     },
     "execution_count": 205,
     "metadata": {},
     "output_type": "execute_result"
    }
   ],
   "source": [
    "np.__version__"
   ]
  },
  {
   "cell_type": "code",
   "execution_count": 206,
   "metadata": {
    "id": "t1pgBT1Y_Nz8"
   },
   "outputs": [],
   "source": [
    "from torch import nn"
   ]
  },
  {
   "cell_type": "code",
   "execution_count": 207,
   "metadata": {
    "colab": {
     "base_uri": "https://localhost:8080/",
     "height": 35
    },
    "id": "W--LAXED_Pd5",
    "outputId": "a8354054-8150-4922-b6ff-d5201ecd9f67"
   },
   "outputs": [
    {
     "data": {
      "text/plain": [
       "'2.3.0+cu121'"
      ]
     },
     "execution_count": 207,
     "metadata": {},
     "output_type": "execute_result"
    }
   ],
   "source": [
    "torch.__version__"
   ]
  },
  {
   "cell_type": "code",
   "execution_count": 208,
   "metadata": {
    "id": "CDbxWNPh_RfR"
   },
   "outputs": [],
   "source": [
    "import pandas as pd"
   ]
  },
  {
   "cell_type": "code",
   "execution_count": 209,
   "metadata": {
    "colab": {
     "base_uri": "https://localhost:8080/",
     "height": 35
    },
    "id": "l-UFhEi_3TDi",
    "outputId": "367219b1-6271-47ad-e1f1-16e6bb1713be"
   },
   "outputs": [
    {
     "data": {
      "text/plain": [
       "'2.0.3'"
      ]
     },
     "execution_count": 209,
     "metadata": {},
     "output_type": "execute_result"
    }
   ],
   "source": [
    "pd.__version__"
   ]
  },
  {
   "cell_type": "code",
   "execution_count": 210,
   "metadata": {
    "id": "g7LyEYDtClsr",
    "tags": []
   },
   "outputs": [
    {
     "name": "stderr",
     "output_type": "stream",
     "text": [
      "INFO:__main__:Successfully downloaded file from https://raw.githubusercontent.com/razaulmustafa852/youtubegoes5g/main/Models/Stall-Windows%20-%20Stall-3s.csv to init_dataset.csv\n"
     ]
    }
   ],
   "source": [
    "import os\n",
    "import requests\n",
    "import logging\n",
    "# Setup logging\n",
    "logging.basicConfig(level=logging.INFO)\n",
    "logger = logging.getLogger(__name__)\n",
    "\n",
    "# Configuration variables\n",
    "config = {\n",
    "    \"REPO_URL\": os.environ.get('REPO_URL', 'https://github.com/danilonicioka/mlops-workflow.git'),\n",
    "    \"CLONED_DIR\": os.environ.get('CLONED_DIR', 'mlops-workflow'),\n",
    "    \"FILE_URL\": os.environ.get('FILE_URL', 'https://raw.githubusercontent.com/razaulmustafa852/youtubegoes5g/main/Models/Stall-Windows%20-%20Stall-3s.csv'),\n",
    "    \"DVC_FILE_DIR\": os.environ.get('DVC_FILE_DIR', 'data/external'),\n",
    "    \"DVC_FILE_NAME\": os.environ.get('DVC_FILE_NAME', 'init_dataset.csv'),\n",
    "    \"BRANCH_NAME\": os.environ.get('BRANCH_NAME', 'tests'),\n",
    "    \"BUCKET_NAME\": os.environ.get('BUCKET_NAME', 'dvc-data'),\n",
    "    \"MINIO_URL\": os.environ.get('MINIO_URL', 'localhost:9000'),\n",
    "    \"ACCESS_KEY\": os.environ.get('ACCESS_KEY'),\n",
    "    \"SECRET_KEY\": os.environ.get('SECRET_KEY'),\n",
    "    \"REMOTE_NAME\": os.environ.get('REMOTE_NAME', 'minio_remote'),\n",
    "    \"GITHUB_USERNAME\": os.environ.get('GITHUB_USERNAME'),\n",
    "    \"GITHUB_TOKEN\": os.environ.get('GITHUB_TOKEN')\n",
    "}\n",
    "\n",
    "file_url = config[\"FILE_URL\"]\n",
    "local_file_path = config[\"DVC_FILE_NAME\"]\n",
    "\n",
    "try:\n",
    "    # Request the file content\n",
    "    response = requests.get(file_url)\n",
    "    response.raise_for_status()\n",
    "\n",
    "    # Save the file content locally\n",
    "    with open(local_file_path, 'wb') as local_file:\n",
    "        local_file.write(response.content)\n",
    "    logger.info(f\"Successfully downloaded file from {file_url} to {local_file_path}\")\n",
    "except requests.RequestException as e:\n",
    "    # Log and raise any download errors\n",
    "    logger.error(f\"Failed to download file: {e}\")\n",
    "    raise"
   ]
  },
  {
   "cell_type": "code",
   "execution_count": 211,
   "metadata": {
    "id": "Eu-ccO37l04V"
   },
   "outputs": [],
   "source": [
    "#colab_path = os.path.join('/content', local_file_path)\n",
    "df = pd.read_csv(local_file_path)"
   ]
  },
  {
   "cell_type": "code",
   "execution_count": 212,
   "metadata": {
    "colab": {
     "base_uri": "https://localhost:8080/"
    },
    "id": "JeNMPwS4BvrG",
    "outputId": "e3e4f8ef-4084-4406-c008-d0e20b01c344"
   },
   "outputs": [
    {
     "data": {
      "text/plain": [
       "Index(['ID', 'Stall', 'Quality', 'Time', 'CQI1', 'CQI2', 'CQI3', 'cSTD CQI',\n",
       "       'cMajority', 'c25 P', 'c50 P', 'c75 P', 'RSRP1', 'RSRP2', 'RSRP3',\n",
       "       'pMajority', 'p25 P', 'p50 P', 'p75 P', 'RSRQ1', 'RSRQ2', 'RSRQ3',\n",
       "       'qMajority', 'q25 P', 'q50 P', 'q75 P', 'SNR1', 'SNR2', 'SNR3',\n",
       "       'sMajority', 's25 P', 's50 P', 's75 P'],\n",
       "      dtype='object')"
      ]
     },
     "execution_count": 212,
     "metadata": {},
     "output_type": "execute_result"
    }
   ],
   "source": [
    "df.columns"
   ]
  },
  {
   "cell_type": "code",
   "execution_count": 213,
   "metadata": {
    "id": "92TIYC4GcELK"
   },
   "outputs": [],
   "source": [
    "df = df.replace([' ', '-',np.nan], 0) # There are null values\n",
    "#df = df.replace([' ', '-',np.nan], np.nan)"
   ]
  },
  {
   "cell_type": "code",
   "execution_count": 214,
   "metadata": {
    "colab": {
     "base_uri": "https://localhost:8080/"
    },
    "id": "z-A7wn3iex59",
    "outputId": "bc1005fe-da7d-4903-f601-588f7db1d379"
   },
   "outputs": [],
   "source": [
    "# Selective columns for mean calculation\n",
    "columns_to_convert = ['CQI1', 'CQI2', 'CQI3', 'cSTD CQI',\n",
    "       'cMajority', 'c25 P', 'c50 P', 'c75 P', 'RSRP1', 'RSRP2', 'RSRP3',\n",
    "       'pMajority', 'p25 P', 'p50 P', 'p75 P', 'RSRQ1', 'RSRQ2', 'RSRQ3',\n",
    "       'qMajority', 'q25 P', 'q50 P', 'q75 P', 'SNR1', 'SNR2', 'SNR3',\n",
    "       'sMajority', 's25 P', 's50 P', 's75 P']\n",
    "df[columns_to_convert] = df[columns_to_convert].astype(float)\n",
    "\n",
    "# Replace np.nan with mean values for selective columns\n",
    "df[columns_to_convert] = df[columns_to_convert].fillna(df[columns_to_convert].mean())\n",
    "\n",
    "# Display the modified DataFrame\n",
    "#print(df)"
   ]
  },
  {
   "cell_type": "code",
   "execution_count": 215,
   "metadata": {
    "colab": {
     "base_uri": "https://localhost:8080/"
    },
    "id": "iwMle4VXvOar",
    "outputId": "f15235be-9474-4a9d-ce6e-8930553102dd"
   },
   "outputs": [
    {
     "name": "stdout",
     "output_type": "stream",
     "text": [
      "ID           False\n",
      "Stall        False\n",
      "Quality      False\n",
      "Time         False\n",
      "CQI1         False\n",
      "CQI2         False\n",
      "CQI3         False\n",
      "cSTD CQI     False\n",
      "cMajority    False\n",
      "c25 P        False\n",
      "c50 P        False\n",
      "c75 P        False\n",
      "RSRP1        False\n",
      "RSRP2        False\n",
      "RSRP3        False\n",
      "pMajority    False\n",
      "p25 P        False\n",
      "p50 P        False\n",
      "p75 P        False\n",
      "RSRQ1        False\n",
      "RSRQ2        False\n",
      "RSRQ3        False\n",
      "qMajority    False\n",
      "q25 P        False\n",
      "q50 P        False\n",
      "q75 P        False\n",
      "SNR1         False\n",
      "SNR2         False\n",
      "SNR3         False\n",
      "sMajority    False\n",
      "s25 P        False\n",
      "s50 P        False\n",
      "s75 P        False\n",
      "dtype: bool\n"
     ]
    }
   ],
   "source": [
    "# Check which columns contain np.nan values\n",
    "columns_with_nan = df.isna().any()\n",
    "# Display the columns with np.nan values\n",
    "print(columns_with_nan)"
   ]
  },
  {
   "cell_type": "code",
   "execution_count": 216,
   "metadata": {
    "id": "jsFpaDR4c0GH"
   },
   "outputs": [],
   "source": [
    "df['Stall'].replace('Yes', 1, inplace=True)\n",
    "df['Stall'].replace('No', 0, inplace=True)"
   ]
  },
  {
   "cell_type": "code",
   "execution_count": 217,
   "metadata": {
    "colab": {
     "base_uri": "https://localhost:8080/"
    },
    "id": "DmoiwXGtEuoM",
    "outputId": "02a876de-5a96-4636-ff0a-6bba4db6d3d1"
   },
   "outputs": [
    {
     "name": "stdout",
     "output_type": "stream",
     "text": [
      "          ID  Stall   Quality      Time  CQI1  CQI2  CQI3  cSTD CQI  \\\n",
      "0      4P7s2      0    hd2160  16:14:29  13.0  13.0  13.0  0.000000   \n",
      "1      4P7s2      0    hd2160  16:14:30  13.0  13.0  13.0  0.000000   \n",
      "2      4P7s2      0    hd2160  16:14:31  13.0  13.0  13.0  0.000000   \n",
      "3      4P7s2      0    hd2160  16:14:32  13.0  13.0  12.0  0.471405   \n",
      "4      4P7s2      0    hd2160  16:14:33  12.0  14.0  12.0  0.942809   \n",
      "...      ...    ...       ...       ...   ...   ...   ...       ...   \n",
      "2688  5Po26s      1  unknown,  17:43:18  14.0  14.0  14.0  0.000000   \n",
      "2689  4Po26s      1  unknown,  17:43:23   0.0   0.0   0.0  0.000000   \n",
      "2690  4Po26s      1   hd1440,  17:43:33   0.0   0.0   0.0  0.000000   \n",
      "2691   4I27s      1  unknown,  10:52:04   9.0   9.0   9.0  0.000000   \n",
      "2692   4I27s      1   hd1440,  10:52:16   9.0   9.0   9.0  0.000000   \n",
      "\n",
      "      cMajority  c25 P  ...  q25 P  q50 P  q75 P  SNR1  SNR2  SNR3  sMajority  \\\n",
      "0          13.0   13.0  ...   -9.5   -7.0   -7.0  12.0  12.0   7.0       12.0   \n",
      "1          13.0   13.0  ...   -9.5   -7.0   -7.0  12.0  12.0   7.0       12.0   \n",
      "2          13.0   13.0  ...  -12.0  -12.0   -9.5  12.0   7.0   7.0        7.0   \n",
      "3          13.0   12.5  ...  -12.0  -12.0  -11.5   7.0   7.0   2.0        7.0   \n",
      "4          12.0   12.0  ...  -11.0  -11.0   -9.0   2.0   2.0   9.0        2.0   \n",
      "...         ...    ...  ...    ...    ...    ...   ...   ...   ...        ...   \n",
      "2688       14.0   14.0  ...   -3.0   -3.0   -3.0   6.0   6.0   6.0        6.0   \n",
      "2689        0.0    0.0  ...    0.0    0.0    0.0   0.0   0.0   0.0        0.0   \n",
      "2690        0.0    0.0  ...    0.0    0.0    0.0   0.0   0.0   0.0        0.0   \n",
      "2691        9.0    9.0  ...  -12.0  -12.0  -11.5   7.0   7.0  10.0        7.0   \n",
      "2692        9.0    9.0  ...  -12.0  -12.0  -12.0   8.0   9.0   9.0        9.0   \n",
      "\n",
      "      s25 P  s50 P  s75 P  \n",
      "0       9.5   12.0   12.0  \n",
      "1       9.5   12.0   12.0  \n",
      "2       7.0    7.0    9.5  \n",
      "3       4.5    7.0    7.0  \n",
      "4       2.0    2.0    5.5  \n",
      "...     ...    ...    ...  \n",
      "2688    6.0    6.0    6.0  \n",
      "2689    0.0    0.0    0.0  \n",
      "2690    0.0    0.0    0.0  \n",
      "2691    7.0    7.0    8.5  \n",
      "2692    8.5    9.0    9.0  \n",
      "\n",
      "[2693 rows x 33 columns]\n"
     ]
    }
   ],
   "source": [
    "print(df)"
   ]
  },
  {
   "cell_type": "code",
   "execution_count": 218,
   "metadata": {
    "colab": {
     "base_uri": "https://localhost:8080/"
    },
    "id": "JMZvSleecToT",
    "outputId": "1ffa6aca-15ad-47b1-c81e-d2d1130671b7"
   },
   "outputs": [
    {
     "data": {
      "text/plain": [
       "Index(['ID', 'Stall', 'Quality', 'Time', 'CQI1', 'CQI2', 'CQI3', 'cSTD CQI',\n",
       "       'cMajority', 'c25 P', 'c50 P', 'c75 P', 'RSRP1', 'RSRP2', 'RSRP3',\n",
       "       'pMajority', 'p25 P', 'p50 P', 'p75 P', 'RSRQ1', 'RSRQ2', 'RSRQ3',\n",
       "       'qMajority', 'q25 P', 'q50 P', 'q75 P', 'SNR1', 'SNR2', 'SNR3',\n",
       "       'sMajority', 's25 P', 's50 P', 's75 P'],\n",
       "      dtype='object')"
      ]
     },
     "execution_count": 218,
     "metadata": {},
     "output_type": "execute_result"
    }
   ],
   "source": [
    "df.columns"
   ]
  },
  {
   "cell_type": "code",
   "execution_count": 219,
   "metadata": {
    "id": "KqZiOAnEcFNy"
   },
   "outputs": [],
   "source": [
    "X = df[['CQI1', 'CQI2', 'CQI3', 'cSTD CQI',\n",
    "       'cMajority', 'c25 P', 'c50 P', 'c75 P', 'RSRP1', 'RSRP2', 'RSRP3',\n",
    "       'pMajority', 'p25 P', 'p50 P', 'p75 P', 'RSRQ1', 'RSRQ2', 'RSRQ3',\n",
    "       'qMajority', 'q25 P', 'q50 P', 'q75 P', 'SNR1', 'SNR2', 'SNR3',\n",
    "       'sMajority', 's25 P', 's50 P', 's75 P']].values"
   ]
  },
  {
   "cell_type": "code",
   "execution_count": 220,
   "metadata": {
    "id": "0Uz-Lf3ycYcM"
   },
   "outputs": [],
   "source": [
    "y = df['Stall'].values"
   ]
  },
  {
   "cell_type": "code",
   "execution_count": 221,
   "metadata": {
    "colab": {
     "base_uri": "https://localhost:8080/"
    },
    "id": "NPGxzwbi1dSF",
    "outputId": "42b701ec-e5ce-4074-a213-3f1b84a1f9b6"
   },
   "outputs": [
    {
     "data": {
      "text/plain": [
       "((2693, 29), (2693,))"
      ]
     },
     "execution_count": 221,
     "metadata": {},
     "output_type": "execute_result"
    }
   ],
   "source": [
    "X.shape, y.shape"
   ]
  },
  {
   "cell_type": "code",
   "execution_count": 222,
   "metadata": {
    "id": "Fbj2trSTd_61"
   },
   "outputs": [],
   "source": [
    "import numpy as np"
   ]
  },
  {
   "cell_type": "code",
   "execution_count": 223,
   "metadata": {
    "id": "iCFjyyRnc4e-"
   },
   "outputs": [],
   "source": [
    "import sklearn\n",
    "from sklearn.model_selection import train_test_split"
   ]
  },
  {
   "cell_type": "code",
   "execution_count": 224,
   "metadata": {
    "colab": {
     "base_uri": "https://localhost:8080/",
     "height": 35
    },
    "id": "Nk_tQrGR4DYU",
    "outputId": "1af102da-f096-4482-a431-58dafc101322"
   },
   "outputs": [
    {
     "data": {
      "text/plain": [
       "'1.2.2'"
      ]
     },
     "execution_count": 224,
     "metadata": {},
     "output_type": "execute_result"
    }
   ],
   "source": [
    "sklearn.__version__"
   ]
  },
  {
   "cell_type": "code",
   "execution_count": 225,
   "metadata": {
    "id": "89vPLfwEM_PP"
   },
   "outputs": [],
   "source": [
    "import imblearn\n",
    "from imblearn.over_sampling import SMOTE"
   ]
  },
  {
   "cell_type": "code",
   "execution_count": 226,
   "metadata": {
    "colab": {
     "base_uri": "https://localhost:8080/",
     "height": 35
    },
    "id": "5xTKs75t4NtI",
    "outputId": "3360078e-e744-4381-96f0-004216e61245"
   },
   "outputs": [
    {
     "data": {
      "text/plain": [
       "'0.11.0'"
      ]
     },
     "execution_count": 226,
     "metadata": {},
     "output_type": "execute_result"
    }
   ],
   "source": [
    "imblearn.__version__"
   ]
  },
  {
   "cell_type": "code",
   "execution_count": 227,
   "metadata": {
    "id": "Uukc_gID4R2E"
   },
   "outputs": [],
   "source": [
    "oversample = SMOTE()\n",
    "X, y = oversample.fit_resample(X, y)"
   ]
  },
  {
   "cell_type": "code",
   "execution_count": 228,
   "metadata": {
    "tags": []
   },
   "outputs": [
    {
     "data": {
      "text/plain": [
       "array([ 13. ,  13. ,  13. ,   0. ,  13. ,  13. ,  13. ,  13. , -76. ,\n",
       "       -76. , -81. , -76. , -78.5, -76. , -76. ,  -7. ,  -7. , -12. ,\n",
       "        -7. ,  -9.5,  -7. ,  -7. ,  12. ,  12. ,   7. ,  12. ,   9.5,\n",
       "        12. ,  12. ])"
      ]
     },
     "execution_count": 228,
     "metadata": {},
     "output_type": "execute_result"
    }
   ],
   "source": [
    "X[0]"
   ]
  },
  {
   "cell_type": "code",
   "execution_count": 229,
   "metadata": {
    "colab": {
     "base_uri": "https://localhost:8080/"
    },
    "id": "bvaCa6r3BvrK",
    "outputId": "af374082-6ebf-4c99-e7ae-0d7dd0cc6f7d"
   },
   "outputs": [
    {
     "data": {
      "text/plain": [
       "(3524, 29)"
      ]
     },
     "execution_count": 229,
     "metadata": {},
     "output_type": "execute_result"
    }
   ],
   "source": [
    "from sklearn.preprocessing import StandardScaler\n",
    "import joblib\n",
    "\n",
    "scaler = StandardScaler()\n",
    "fit_scaler = scaler.fit(X)\n",
    "joblib.dump(fit_scaler, 'scaler.save')\n",
    "X = fit_scaler.transform(X)\n",
    "X.shape"
   ]
  },
  {
   "cell_type": "code",
   "execution_count": 230,
   "metadata": {
    "id": "gkOL3bMlNdOP"
   },
   "outputs": [],
   "source": [
    "X = torch.from_numpy(X).type(torch.float32)\n",
    "y = torch.from_numpy(y).type(torch.float32)"
   ]
  },
  {
   "cell_type": "code",
   "execution_count": 231,
   "metadata": {
    "colab": {
     "base_uri": "https://localhost:8080/"
    },
    "id": "pxNRza7idOxY",
    "outputId": "14177788-6c9c-49f9-d372-ded4ea053a5d"
   },
   "outputs": [
    {
     "data": {
      "text/plain": [
       "torch.Size([3524, 29])"
      ]
     },
     "execution_count": 231,
     "metadata": {},
     "output_type": "execute_result"
    }
   ],
   "source": [
    "X.shape"
   ]
  },
  {
   "cell_type": "code",
   "execution_count": 232,
   "metadata": {
    "colab": {
     "base_uri": "https://localhost:8080/"
    },
    "id": "RlTO_K6NBvrL",
    "outputId": "63f3caca-e374-43e8-a2d8-26c3ece7dbc3"
   },
   "outputs": [
    {
     "data": {
      "text/plain": [
       "tensor([ 1.2961,  1.2947,  1.3103, -0.8068,  1.2950,  1.5510,  1.3164,  1.2005,\n",
       "         1.3405,  1.3391,  1.0186,  1.3402,  1.2126,  1.3393,  1.3140,  0.5796,\n",
       "         0.5772, -0.5194,  0.5746,  0.0798,  0.5754,  0.5401,  0.4581,  0.4473,\n",
       "        -0.1917,  0.4490,  0.1823,  0.4479,  0.4039])"
      ]
     },
     "execution_count": 232,
     "metadata": {},
     "output_type": "execute_result"
    }
   ],
   "source": [
    "X[0]"
   ]
  },
  {
   "cell_type": "code",
   "execution_count": 233,
   "metadata": {
    "colab": {
     "base_uri": "https://localhost:8080/"
    },
    "id": "rCvEQdyuliPn",
    "outputId": "da4545c0-0145-4d3c-9d68-5e4989df62a1"
   },
   "outputs": [
    {
     "data": {
      "text/plain": [
       "torch.Size([3524])"
      ]
     },
     "execution_count": 233,
     "metadata": {},
     "output_type": "execute_result"
    }
   ],
   "source": [
    "y.shape"
   ]
  },
  {
   "cell_type": "code",
   "execution_count": 234,
   "metadata": {
    "colab": {
     "base_uri": "https://localhost:8080/"
    },
    "id": "a8gv73lHloJ_",
    "outputId": "349b7ad9-de75-4174-e723-386e4f97c887"
   },
   "outputs": [
    {
     "name": "stdout",
     "output_type": "stream",
     "text": [
      "X_train: tensor([[ 0.3143,  1.2947, -0.3344,  1.4486,  0.3206,  0.1346,  0.3289,  0.6980,\n",
      "          0.7602,  0.7593,  0.7615,  0.7602,  0.7921,  0.7594,  0.7331,  0.3591,\n",
      "          0.3575, -0.0798,  0.3551,  0.1889,  0.3558,  0.3141,  1.1001,  1.0871,\n",
      "          0.9555,  1.0899,  1.0824,  1.0884,  1.0531]]) \n",
      "X_train_shape: torch.Size([1, 29]) \n",
      "X_test: tensor([[ 1.9507,  1.6197,  1.6393, -0.2894,  1.6199,  1.9051,  1.6455,  1.7030,\n",
      "          1.2760,  1.4035,  1.2756,  1.2757,  1.3096,  1.2749,  1.3140,  1.4618,\n",
      "          1.4557,  1.4588,  1.4527,  1.4977,  1.4540,  1.4438,  1.7421,  1.7269,\n",
      "          1.7203,  1.7309,  1.7897,  1.7289,  1.7023]]) \n",
      "X_test_shape: torch.Size([1, 29]) \n",
      "y_train: tensor([0.]) \n",
      "y_test: tensor([0.])\n"
     ]
    }
   ],
   "source": [
    "from sklearn.model_selection import train_test_split\n",
    "\n",
    "X_train, X_test, y_train, y_test = train_test_split(X,\n",
    "                                                    y,\n",
    "                                                    test_size=0.2,\n",
    "                                                    random_state=42\n",
    ")\n",
    "\n",
    "print(\"X_train:\", X_train[:1],\"\\nX_train_shape:\", X_train[:1].shape,\"\\nX_test:\", X_test[:1],\"\\nX_test_shape:\",X_test[:1].shape, \"\\ny_train:\", y_train[:1],\"\\ny_test:\", y_test[:1])"
   ]
  },
  {
   "cell_type": "code",
   "execution_count": 235,
   "metadata": {
    "colab": {
     "base_uri": "https://localhost:8080/"
    },
    "id": "QDTLbnHC4LSo",
    "outputId": "9b37bbd8-08f4-4d51-e3cd-adb882b91cfa"
   },
   "outputs": [
    {
     "name": "stdout",
     "output_type": "stream",
     "text": [
      "X_train: tensor([[ 0.3143,  1.2947, -0.3344,  1.4486,  0.3206,  0.1346,  0.3289,  0.6980,\n",
      "          0.7602,  0.7593,  0.7615,  0.7602,  0.7921,  0.7594,  0.7331,  0.3591,\n",
      "          0.3575, -0.0798,  0.3551,  0.1889,  0.3558,  0.3141,  1.1001,  1.0871,\n",
      "          0.9555,  1.0899,  1.0824,  1.0884,  1.0531]])\n"
     ]
    }
   ],
   "source": [
    "print(\"X_train:\", X_train[:1])"
   ]
  },
  {
   "cell_type": "code",
   "execution_count": 236,
   "metadata": {
    "id": "zi5yZmFQGWjH"
   },
   "outputs": [],
   "source": [
    "torch.save(X_train, \"/tmp/X_train.pt\")"
   ]
  },
  {
   "cell_type": "code",
   "execution_count": 237,
   "metadata": {
    "colab": {
     "base_uri": "https://localhost:8080/"
    },
    "id": "D8YilSYm4HMk",
    "outputId": "de0e51aa-2da6-4322-d634-f2da9eb33d5b"
   },
   "outputs": [
    {
     "name": "stdout",
     "output_type": "stream",
     "text": [
      "X_train: tensor([[ 0.3143,  1.2947, -0.3344,  1.4486,  0.3206,  0.1346,  0.3289,  0.6980,\n",
      "          0.7602,  0.7593,  0.7615,  0.7602,  0.7921,  0.7594,  0.7331,  0.3591,\n",
      "          0.3575, -0.0798,  0.3551,  0.1889,  0.3558,  0.3141,  1.1001,  1.0871,\n",
      "          0.9555,  1.0899,  1.0824,  1.0884,  1.0531]])\n"
     ]
    }
   ],
   "source": [
    "X_train_loaded = torch.load(\"/tmp/X_train.pt\")\n",
    "print(\"X_train:\", X_train_loaded[:1])"
   ]
  },
  {
   "cell_type": "code",
   "execution_count": 238,
   "metadata": {
    "colab": {
     "base_uri": "https://localhost:8080/"
    },
    "id": "WZfSubyMpcAH",
    "outputId": "04ce14c4-e30c-433e-f447-c74c3a2da7df"
   },
   "outputs": [
    {
     "data": {
      "text/plain": [
       "torch.Tensor"
      ]
     },
     "execution_count": 238,
     "metadata": {},
     "output_type": "execute_result"
    }
   ],
   "source": [
    "type(X_train)"
   ]
  },
  {
   "cell_type": "code",
   "execution_count": 239,
   "metadata": {
    "colab": {
     "base_uri": "https://localhost:8080/",
     "height": 35
    },
    "id": "-RX--XqwmgWm",
    "outputId": "6769a4d0-e488-4542-cae9-3dbd4751fc66"
   },
   "outputs": [
    {
     "data": {
      "text/plain": [
       "'cpu'"
      ]
     },
     "execution_count": 239,
     "metadata": {},
     "output_type": "execute_result"
    }
   ],
   "source": [
    "device = \"cuda\" if torch.cuda.is_available() else \"cpu\"\n",
    "device"
   ]
  },
  {
   "cell_type": "code",
   "execution_count": 240,
   "metadata": {
    "colab": {
     "base_uri": "https://localhost:8080/"
    },
    "id": "a4mOVimKl1Te",
    "outputId": "946a66ec-717d-4e37-9803-5f943de157f0"
   },
   "outputs": [
    {
     "name": "stdout",
     "output_type": "stream",
     "text": [
      "InteruptionModel(\n",
      "  (layer_1): Linear(in_features=29, out_features=200, bias=True)\n",
      "  (layer_2): Linear(in_features=200, out_features=100, bias=True)\n",
      "  (layer_3): Linear(in_features=100, out_features=1, bias=True)\n",
      "  (relu): ReLU()\n",
      ")\n"
     ]
    }
   ],
   "source": [
    "# Build model with non-linear activation function\n",
    "from torch import nn\n",
    "class InteruptionModel(nn.Module):\n",
    "    def __init__(self):\n",
    "        super().__init__()\n",
    "        self.layer_1 = nn.Linear(in_features=29, out_features=200)\n",
    "        self.layer_2 = nn.Linear(in_features=200, out_features=100)\n",
    "        self.layer_3 = nn.Linear(in_features=100, out_features=1)\n",
    "        self.relu = nn.ReLU() # <- add in ReLU activation function\n",
    "        # Can also put sigmoid in the model\n",
    "        # This would mean you don't need to use it on the predictions\n",
    "        # self.sigmoid = nn.Sigmoid()\n",
    "\n",
    "    def forward(self, x):\n",
    "      # Intersperse the ReLU activation function between layers\n",
    "       return self.layer_3(self.relu(self.layer_2(self.relu(self.layer_1(x)))))\n",
    "\n",
    "model_3 = InteruptionModel().to(device)\n",
    "print(model_3)"
   ]
  },
  {
   "cell_type": "code",
   "execution_count": 241,
   "metadata": {
    "colab": {
     "base_uri": "https://localhost:8080/"
    },
    "id": "4LdQs1yMHyTC",
    "outputId": "d0b4c727-4d2e-40ed-aaeb-43e703ca2656"
   },
   "outputs": [],
   "source": [
    "#model_3.state_dict()"
   ]
  },
  {
   "cell_type": "code",
   "execution_count": 242,
   "metadata": {
    "id": "Klsrww6wmhnp"
   },
   "outputs": [],
   "source": [
    "# Setup loss and optimizer\n",
    "loss_fn = nn.BCEWithLogitsLoss()\n",
    "optimizer = torch.optim.Adam(model_3.parameters(), lr=0.0001)"
   ]
  },
  {
   "cell_type": "code",
   "execution_count": 243,
   "metadata": {
    "id": "LQsS4A83m2_j"
   },
   "outputs": [],
   "source": [
    "def accuracy_fn(y_true, y_pred):\n",
    "    correct = torch.eq(y_true, y_pred).sum().item() # torch.eq() calculates where two tensors are equal\n",
    "    acc = (correct / len(y_pred)) * 100\n",
    "    return acc"
   ]
  },
  {
   "cell_type": "code",
   "execution_count": 244,
   "metadata": {
    "colab": {
     "base_uri": "https://localhost:8080/"
    },
    "id": "XmgM-bVvmpqO",
    "outputId": "5d9adfdd-de8e-4533-d543-634a95d21a61"
   },
   "outputs": [
    {
     "name": "stdout",
     "output_type": "stream",
     "text": [
      "Epoch: 0 | Loss: 0.69251, Accuracy: 50.66% | Test Loss: 0.68589, Test Accuracy: 55.46%\n",
      "Epoch: 500 | Loss: 0.47526, Accuracy: 77.76% | Test Loss: 0.49838, Test Accuracy: 75.18%\n",
      "Epoch: 1000 | Loss: 0.37302, Accuracy: 83.43% | Test Loss: 0.44735, Test Accuracy: 80.43%\n",
      "Epoch: 1500 | Loss: 0.26883, Accuracy: 89.61% | Test Loss: 0.41710, Test Accuracy: 82.70%\n",
      "Epoch: 2000 | Loss: 0.17973, Accuracy: 94.40% | Test Loss: 0.42712, Test Accuracy: 84.54%\n",
      "Epoch: 2500 | Loss: 0.12543, Accuracy: 96.81% | Test Loss: 0.46299, Test Accuracy: 85.25%\n",
      "Epoch: 3000 | Loss: 0.08981, Accuracy: 98.01% | Test Loss: 0.51030, Test Accuracy: 84.54%\n"
     ]
    }
   ],
   "source": [
    "# Fit the model\n",
    "torch.manual_seed(42)\n",
    "epochs = 3500\n",
    "\n",
    "# Put all data on target device\n",
    "X_train, y_train = X_train.to(device), y_train.to(device)\n",
    "X_test, y_test = X_test.to(device), y_test.to(device)\n",
    "\n",
    "\n",
    "for epoch in range(epochs):\n",
    "    # 1. Forward pass\n",
    "    y_logits = model_3(X_train).squeeze()\n",
    "\n",
    "    y_pred = torch.round(torch.sigmoid(y_logits)) # logits -> prediction probabilities -> prediction labels\n",
    "\n",
    "    # 2. Calculate loss and accuracy\n",
    "    loss = loss_fn(y_logits, y_train) # BCEWithLogitsLoss calculates loss using logits\n",
    "    acc = accuracy_fn(y_true=y_train,\n",
    "                      y_pred=y_pred)\n",
    "\n",
    "    # 3. Optimizer zero grad\n",
    "    optimizer.zero_grad()\n",
    "\n",
    "    # 4. Loss backward\n",
    "    loss.backward()\n",
    "\n",
    "    # 5. Optimizer step\n",
    "    optimizer.step()\n",
    "\n",
    "    ### Testing\n",
    "    model_3.eval()\n",
    "    with torch.no_grad():\n",
    "      # 1. Forward pass\n",
    "        test_logits = model_3(X_test).squeeze()\n",
    "        #print(test_logits.shape)\n",
    "        test_pred = torch.round(torch.sigmoid(test_logits)) # logits -> prediction probabilities -> prediction labels\n",
    "        # 2. Calcuate loss and accuracy\n",
    "        test_loss = loss_fn(test_logits, y_test)\n",
    "        test_acc = accuracy_fn(y_true=y_test,\n",
    "                             y_pred=test_pred)\n",
    "\n",
    "\n",
    "    # Print out what's happening\n",
    "    if epoch % 500 == 0:\n",
    "        print(f\"Epoch: {epoch} | Loss: {loss:.5f}, Accuracy: {acc:.2f}% | Test Loss: {test_loss:.5f}, Test Accuracy: {test_acc:.2f}%\")"
   ]
  },
  {
   "cell_type": "code",
   "execution_count": 245,
   "metadata": {
    "id": "f0ajvarorOFf"
   },
   "outputs": [],
   "source": [
    "model_3.eval()\n",
    "with torch.no_grad():\n",
    "     y_preds = torch.round(torch.sigmoid(model_3(X_test))).squeeze()"
   ]
  },
  {
   "cell_type": "code",
   "execution_count": 246,
   "metadata": {
    "colab": {
     "base_uri": "https://localhost:8080/"
    },
    "id": "eoflm9NgrrrZ",
    "outputId": "b1b7c1fe-7358-4c1a-8a60-4a6d0cee6c5f"
   },
   "outputs": [
    {
     "data": {
      "text/plain": [
       "(torch.Size([705]), torch.Size([705]))"
      ]
     },
     "execution_count": 246,
     "metadata": {},
     "output_type": "execute_result"
    }
   ],
   "source": [
    "y_preds.shape,y_test.shape"
   ]
  },
  {
   "cell_type": "code",
   "execution_count": 247,
   "metadata": {
    "id": "COMEFsAjrs7g"
   },
   "outputs": [],
   "source": [
    "if device == \"cuda\":\n",
    "  predictions = y_preds.cpu().numpy() #if it is cuda, then this, otherwise y_pred.numpy()\n",
    "  true_labels = y_test.cpu().numpy()\n",
    "else:\n",
    "  predictions = y_preds.numpy()\n",
    "  true_labels = y_test.numpy()"
   ]
  },
  {
   "cell_type": "code",
   "execution_count": 248,
   "metadata": {
    "colab": {
     "base_uri": "https://localhost:8080/"
    },
    "id": "fxDeucCxs6U8",
    "outputId": "5d94445d-cb33-4cdb-fd47-8824d5d25dba"
   },
   "outputs": [
    {
     "name": "stdout",
     "output_type": "stream",
     "text": [
      "=== Confusion Matrix ===\n",
      "[[310  60]\n",
      " [ 46 289]]\n",
      "\n",
      "\n",
      "=== Score ===\n",
      "Accuracy: 0.849645\n",
      "Precision: 0.850493\n",
      "Recall: 0.849645\n",
      "Micro F1 score: 0.849645\n",
      "Macro F1 score: 0.849512\n"
     ]
    }
   ],
   "source": [
    "from sklearn.metrics import accuracy_score\n",
    "from sklearn.metrics import confusion_matrix\n",
    "from sklearn.metrics import classification_report\n",
    "from sklearn.metrics import precision_score\n",
    "from sklearn.metrics import recall_score\n",
    "from sklearn.metrics import f1_score,fbeta_score\n",
    "\n",
    "print(\"=== Confusion Matrix ===\")\n",
    "print(confusion_matrix(true_labels, predictions))\n",
    "print('\\n')\n",
    "\n",
    "\n",
    "print(\"=== Score ===\")\n",
    "accuracy = accuracy_score(true_labels, predictions)\n",
    "print('Accuracy: %f' % accuracy)\n",
    "\n",
    "precision = precision_score(true_labels,  predictions, average='weighted')\n",
    "print('Precision: %f' % precision)\n",
    "recall = recall_score(true_labels, predictions, average='weighted')\n",
    "print('Recall: %f' % recall)\n",
    "\n",
    "microf1 = f1_score(true_labels, predictions, average='micro')\n",
    "print('Micro F1 score: %f' % microf1)\n",
    "macrof1 = f1_score(true_labels, predictions, average='macro')\n",
    "print('Macro F1 score: %f' % macrof1)"
   ]
  },
  {
   "cell_type": "code",
   "execution_count": 249,
   "metadata": {
    "colab": {
     "base_uri": "https://localhost:8080/"
    },
    "id": "ACAmFpC-tJ0o",
    "outputId": "a15d74c6-aa9f-4fb4-cfb8-2e777781a127"
   },
   "outputs": [
    {
     "name": "stdout",
     "output_type": "stream",
     "text": [
      "              precision    recall  f1-score   support\n",
      "\n",
      "    No-Stall       0.87      0.84      0.85       370\n",
      "       Stall       0.83      0.86      0.85       335\n",
      "\n",
      "    accuracy                           0.85       705\n",
      "   macro avg       0.85      0.85      0.85       705\n",
      "weighted avg       0.85      0.85      0.85       705\n",
      "\n"
     ]
    }
   ],
   "source": [
    "target_names = ['No-Stall', 'Stall']\n",
    "# Print precision-recall report\n",
    "print(classification_report(true_labels, predictions, target_names=target_names))"
   ]
  },
  {
   "cell_type": "code",
   "execution_count": 250,
   "metadata": {
    "id": "XNsSYjD2tSlO"
   },
   "outputs": [],
   "source": [
    "#Done"
   ]
  }
 ],
 "metadata": {
  "accelerator": "GPU",
  "colab": {
   "gpuType": "T4",
   "provenance": []
  },
  "kernelspec": {
   "display_name": "Python 3 (ipykernel)",
   "language": "python",
   "name": "python3"
  },
  "language_info": {
   "codemirror_mode": {
    "name": "ipython",
    "version": 3
   },
   "file_extension": ".py",
   "mimetype": "text/x-python",
   "name": "python",
   "nbconvert_exporter": "python",
   "pygments_lexer": "ipython3",
   "version": "3.11.6"
  }
 },
 "nbformat": 4,
 "nbformat_minor": 4
}

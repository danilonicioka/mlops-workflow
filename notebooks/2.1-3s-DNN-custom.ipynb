{
 "cells": [
  {
   "cell_type": "code",
   "execution_count": null,
   "metadata": {
    "id": "4kQGfDn2_KVc"
   },
   "outputs": [],
   "source": [
    "import torch\n",
    "import numpy as np"
   ]
  },
  {
   "cell_type": "code",
   "execution_count": null,
   "metadata": {
    "colab": {
     "base_uri": "https://localhost:8080/",
     "height": 35
    },
    "id": "Ke6FQ2ew35ix",
    "outputId": "315dff67-1161-4d51-e023-23901df285a7"
   },
   "outputs": [
    {
     "data": {
      "application/vnd.google.colaboratory.intrinsic+json": {
       "type": "string"
      },
      "text/plain": [
       "'1.25.2'"
      ]
     },
     "execution_count": 2,
     "metadata": {},
     "output_type": "execute_result"
    }
   ],
   "source": [
    "np.__version__"
   ]
  },
  {
   "cell_type": "code",
   "execution_count": null,
   "metadata": {
    "id": "t1pgBT1Y_Nz8"
   },
   "outputs": [],
   "source": [
    "from torch import nn"
   ]
  },
  {
   "cell_type": "code",
   "execution_count": null,
   "metadata": {
    "colab": {
     "base_uri": "https://localhost:8080/",
     "height": 35
    },
    "id": "W--LAXED_Pd5",
    "outputId": "a8354054-8150-4922-b6ff-d5201ecd9f67"
   },
   "outputs": [
    {
     "data": {
      "application/vnd.google.colaboratory.intrinsic+json": {
       "type": "string"
      },
      "text/plain": [
       "'2.3.0+cu121'"
      ]
     },
     "execution_count": 4,
     "metadata": {},
     "output_type": "execute_result"
    }
   ],
   "source": [
    "torch.__version__"
   ]
  },
  {
   "cell_type": "code",
   "execution_count": null,
   "metadata": {
    "id": "CDbxWNPh_RfR"
   },
   "outputs": [],
   "source": [
    "import pandas as pd"
   ]
  },
  {
   "cell_type": "code",
   "execution_count": null,
   "metadata": {
    "colab": {
     "base_uri": "https://localhost:8080/",
     "height": 35
    },
    "id": "l-UFhEi_3TDi",
    "outputId": "367219b1-6271-47ad-e1f1-16e6bb1713be"
   },
   "outputs": [
    {
     "data": {
      "application/vnd.google.colaboratory.intrinsic+json": {
       "type": "string"
      },
      "text/plain": [
       "'2.0.3'"
      ]
     },
     "execution_count": 6,
     "metadata": {},
     "output_type": "execute_result"
    }
   ],
   "source": [
    "pd.__version__"
   ]
  },
  {
   "cell_type": "code",
   "execution_count": null,
   "metadata": {
    "id": "g7LyEYDtClsr"
   },
   "outputs": [],
   "source": [
    "import os\n",
    "import requests\n",
    "import logging\n",
    "# Setup logging\n",
    "logging.basicConfig(level=logging.INFO)\n",
    "logger = logging.getLogger(__name__)\n",
    "\n",
    "# Configuration variables\n",
    "config = {\n",
    "    \"REPO_URL\": os.environ.get('REPO_URL', 'https://github.com/danilonicioka/mlops-workflow.git'),\n",
    "    \"CLONED_DIR\": os.environ.get('CLONED_DIR', 'mlops-workflow'),\n",
    "    \"FILE_URL\": os.environ.get('FILE_URL', 'https://raw.githubusercontent.com/razaulmustafa852/youtubegoes5g/main/Models/Stall-Windows%20-%20Stall-3s.csv'),\n",
    "    \"DVC_FILE_DIR\": os.environ.get('DVC_FILE_DIR', 'data/external'),\n",
    "    \"DVC_FILE_NAME\": os.environ.get('DVC_FILE_NAME', 'init_dataset.csv'),\n",
    "    \"BRANCH_NAME\": os.environ.get('BRANCH_NAME', 'tests'),\n",
    "    \"BUCKET_NAME\": os.environ.get('BUCKET_NAME', 'dvc-data'),\n",
    "    \"MINIO_URL\": os.environ.get('MINIO_URL', 'localhost:9000'),\n",
    "    \"ACCESS_KEY\": os.environ.get('ACCESS_KEY'),\n",
    "    \"SECRET_KEY\": os.environ.get('SECRET_KEY'),\n",
    "    \"REMOTE_NAME\": os.environ.get('REMOTE_NAME', 'minio_remote'),\n",
    "    \"GITHUB_USERNAME\": os.environ.get('GITHUB_USERNAME'),\n",
    "    \"GITHUB_TOKEN\": os.environ.get('GITHUB_TOKEN')\n",
    "}\n",
    "\n",
    "file_url = config[\"FILE_URL\"]\n",
    "local_file_path = config[\"DVC_FILE_NAME\"]\n",
    "\n",
    "try:\n",
    "    # Request the file content\n",
    "    response = requests.get(file_url)\n",
    "    response.raise_for_status()\n",
    "\n",
    "    # Save the file content locally\n",
    "    with open(local_file_path, 'wb') as local_file:\n",
    "        local_file.write(response.content)\n",
    "    logger.info(f\"Successfully downloaded file from {file_url} to {local_file_path}\")\n",
    "except requests.RequestException as e:\n",
    "    # Log and raise any download errors\n",
    "    logger.error(f\"Failed to download file: {e}\")\n",
    "    raise"
   ]
  },
  {
   "cell_type": "code",
   "execution_count": null,
   "metadata": {
    "id": "Eu-ccO37l04V"
   },
   "outputs": [],
   "source": [
    "colab_path = os.path.join('/content', local_file_path)\n",
    "df = pd.read_csv(colab_path)"
   ]
  },
  {
   "cell_type": "code",
   "execution_count": null,
   "metadata": {
    "colab": {
     "base_uri": "https://localhost:8080/"
    },
    "id": "JeNMPwS4BvrG",
    "outputId": "e3e4f8ef-4084-4406-c008-d0e20b01c344"
   },
   "outputs": [
    {
     "data": {
      "text/plain": [
       "Index(['ID', 'Stall', 'Quality', 'Time', 'CQI1', 'CQI2', 'CQI3', 'cSTD CQI',\n",
       "       'cMajority', 'c25 P', 'c50 P', 'c75 P', 'RSRP1', 'RSRP2', 'RSRP3',\n",
       "       'pMajority', 'p25 P', 'p50 P', 'p75 P', 'RSRQ1', 'RSRQ2', 'RSRQ3',\n",
       "       'qMajority', 'q25 P', 'q50 P', 'q75 P', 'SNR1', 'SNR2', 'SNR3',\n",
       "       'sMajority', 's25 P', 's50 P', 's75 P'],\n",
       "      dtype='object')"
      ]
     },
     "execution_count": 9,
     "metadata": {},
     "output_type": "execute_result"
    }
   ],
   "source": [
    "df.columns"
   ]
  },
  {
   "cell_type": "code",
   "execution_count": null,
   "metadata": {
    "colab": {
     "base_uri": "https://localhost:8080/"
    },
    "id": "69XEpxlXEEdk",
    "outputId": "b1a67b29-d247-4f80-e2f8-58653594c7ef"
   },
   "outputs": [
    {
     "name": "stdout",
     "output_type": "stream",
     "text": [
      "          ID Stall   Quality      Time CQI1 CQI2 CQI3  cSTD CQI cMajority  \\\n",
      "0      4P7s2    No    hd2160  16:14:29   13   13   13  0.000000        13   \n",
      "1      4P7s2    No    hd2160  16:14:30   13   13   13  0.000000        13   \n",
      "2      4P7s2    No    hd2160  16:14:31   13   13   13  0.000000        13   \n",
      "3      4P7s2    No    hd2160  16:14:32   13   13   12  0.471405        13   \n",
      "4      4P7s2    No    hd2160  16:14:33   12   14   12  0.942809        12   \n",
      "...      ...   ...       ...       ...  ...  ...  ...       ...       ...   \n",
      "2688  5Po26s   Yes  unknown,  17:43:18   14   14   14  0.000000        14   \n",
      "2689  4Po26s   Yes  unknown,  17:43:23  NaN  NaN  NaN  0.000000       NaN   \n",
      "2690  4Po26s   Yes   hd1440,  17:43:33  NaN  NaN  NaN  0.000000       NaN   \n",
      "2691   4I27s   Yes  unknown,  10:52:04    9    9    9  0.000000         9   \n",
      "2692   4I27s   Yes   hd1440,  10:52:16    9    9    9  0.000000         9   \n",
      "\n",
      "      c25 P  ...  q25 P  q50 P  q75 P  SNR1  SNR2  SNR3  sMajority  s25 P  \\\n",
      "0      13.0  ...   -9.5     -7   -7.0    12    12     7         12    9.5   \n",
      "1      13.0  ...   -9.5     -7   -7.0    12    12     7         12    9.5   \n",
      "2      13.0  ...  -12.0    -12   -9.5    12     7     7          7    7.0   \n",
      "3      12.5  ...  -12.0    -12  -11.5     7     7     2          7    4.5   \n",
      "4      12.0  ...  -11.0    -11   -9.0     2     2     9          2    2.0   \n",
      "...     ...  ...    ...    ...    ...   ...   ...   ...        ...    ...   \n",
      "2688   14.0  ...   -3.0     -3   -3.0     6     6     6          6    6.0   \n",
      "2689    0.0  ...    0.0      0    0.0   NaN   NaN   NaN        NaN    0.0   \n",
      "2690    0.0  ...    0.0      0    0.0   NaN   NaN   NaN        NaN    0.0   \n",
      "2691    9.0  ...  -12.0    -12  -11.5     7     7    10          7    7.0   \n",
      "2692    9.0  ...  -12.0    -12  -12.0     8     9     9          9    8.5   \n",
      "\n",
      "      s50 P s75 P  \n",
      "0        12  12.0  \n",
      "1        12  12.0  \n",
      "2         7   9.5  \n",
      "3         7   7.0  \n",
      "4         2   5.5  \n",
      "...     ...   ...  \n",
      "2688      6   6.0  \n",
      "2689      0   0.0  \n",
      "2690      0   0.0  \n",
      "2691      7   8.5  \n",
      "2692      9   9.0  \n",
      "\n",
      "[2693 rows x 33 columns]\n"
     ]
    }
   ],
   "source": [
    "print(df)"
   ]
  },
  {
   "cell_type": "code",
   "execution_count": null,
   "metadata": {
    "id": "92TIYC4GcELK"
   },
   "outputs": [],
   "source": [
    "#df = df.replace([' ', '-',np.nan], 0) # There are null values\n",
    "df = df.replace([' ', '-',np.nan], np.nan)"
   ]
  },
  {
   "cell_type": "code",
   "execution_count": null,
   "metadata": {
    "colab": {
     "base_uri": "https://localhost:8080/"
    },
    "id": "cdylbTP1D2bD",
    "outputId": "f4544e1e-7304-48ab-da97-dfa594bd558e"
   },
   "outputs": [
    {
     "name": "stdout",
     "output_type": "stream",
     "text": [
      "          ID Stall   Quality      Time CQI1 CQI2 CQI3  cSTD CQI cMajority  \\\n",
      "0      4P7s2    No    hd2160  16:14:29   13   13   13  0.000000        13   \n",
      "1      4P7s2    No    hd2160  16:14:30   13   13   13  0.000000        13   \n",
      "2      4P7s2    No    hd2160  16:14:31   13   13   13  0.000000        13   \n",
      "3      4P7s2    No    hd2160  16:14:32   13   13   12  0.471405        13   \n",
      "4      4P7s2    No    hd2160  16:14:33   12   14   12  0.942809        12   \n",
      "...      ...   ...       ...       ...  ...  ...  ...       ...       ...   \n",
      "2688  5Po26s   Yes  unknown,  17:43:18   14   14   14  0.000000        14   \n",
      "2689  4Po26s   Yes  unknown,  17:43:23  NaN  NaN  NaN  0.000000       NaN   \n",
      "2690  4Po26s   Yes   hd1440,  17:43:33  NaN  NaN  NaN  0.000000       NaN   \n",
      "2691   4I27s   Yes  unknown,  10:52:04    9    9    9  0.000000         9   \n",
      "2692   4I27s   Yes   hd1440,  10:52:16    9    9    9  0.000000         9   \n",
      "\n",
      "      c25 P  ...  q25 P  q50 P  q75 P  SNR1  SNR2  SNR3  sMajority  s25 P  \\\n",
      "0      13.0  ...   -9.5     -7   -7.0    12    12     7         12    9.5   \n",
      "1      13.0  ...   -9.5     -7   -7.0    12    12     7         12    9.5   \n",
      "2      13.0  ...  -12.0    -12   -9.5    12     7     7          7    7.0   \n",
      "3      12.5  ...  -12.0    -12  -11.5     7     7     2          7    4.5   \n",
      "4      12.0  ...  -11.0    -11   -9.0     2     2     9          2    2.0   \n",
      "...     ...  ...    ...    ...    ...   ...   ...   ...        ...    ...   \n",
      "2688   14.0  ...   -3.0     -3   -3.0     6     6     6          6    6.0   \n",
      "2689    0.0  ...    0.0      0    0.0   NaN   NaN   NaN        NaN    0.0   \n",
      "2690    0.0  ...    0.0      0    0.0   NaN   NaN   NaN        NaN    0.0   \n",
      "2691    9.0  ...  -12.0    -12  -11.5     7     7    10          7    7.0   \n",
      "2692    9.0  ...  -12.0    -12  -12.0     8     9     9          9    8.5   \n",
      "\n",
      "      s50 P s75 P  \n",
      "0        12  12.0  \n",
      "1        12  12.0  \n",
      "2         7   9.5  \n",
      "3         7   7.0  \n",
      "4         2   5.5  \n",
      "...     ...   ...  \n",
      "2688      6   6.0  \n",
      "2689      0   0.0  \n",
      "2690      0   0.0  \n",
      "2691      7   8.5  \n",
      "2692      9   9.0  \n",
      "\n",
      "[2693 rows x 33 columns]\n"
     ]
    }
   ],
   "source": [
    "print(df)"
   ]
  },
  {
   "cell_type": "code",
   "execution_count": null,
   "metadata": {
    "colab": {
     "base_uri": "https://localhost:8080/"
    },
    "id": "z-A7wn3iex59",
    "outputId": "bc1005fe-da7d-4903-f601-588f7db1d379"
   },
   "outputs": [
    {
     "name": "stdout",
     "output_type": "stream",
     "text": [
      "          ID Stall   Quality      Time       CQI1       CQI2       CQI3  \\\n",
      "0      4P7s2    No    hd2160  16:14:29  13.000000  13.000000  13.000000   \n",
      "1      4P7s2    No    hd2160  16:14:30  13.000000  13.000000  13.000000   \n",
      "2      4P7s2    No    hd2160  16:14:31  13.000000  13.000000  13.000000   \n",
      "3      4P7s2    No    hd2160  16:14:32  13.000000  13.000000  12.000000   \n",
      "4      4P7s2    No    hd2160  16:14:33  12.000000  14.000000  12.000000   \n",
      "...      ...   ...       ...       ...        ...        ...        ...   \n",
      "2688  5Po26s   Yes  unknown,  17:43:18  14.000000  14.000000  14.000000   \n",
      "2689  4Po26s   Yes  unknown,  17:43:23   9.297063   9.271461   9.249437   \n",
      "2690  4Po26s   Yes   hd1440,  17:43:33   9.297063   9.271461   9.249437   \n",
      "2691   4I27s   Yes  unknown,  10:52:04   9.000000   9.000000   9.000000   \n",
      "2692   4I27s   Yes   hd1440,  10:52:16   9.000000   9.000000   9.000000   \n",
      "\n",
      "      cSTD CQI  cMajority  c25 P  ...  q25 P  q50 P  q75 P       SNR1  \\\n",
      "0     0.000000  13.000000   13.0  ...   -9.5   -7.0   -7.0  12.000000   \n",
      "1     0.000000  13.000000   13.0  ...   -9.5   -7.0   -7.0  12.000000   \n",
      "2     0.000000  13.000000   13.0  ...  -12.0  -12.0   -9.5  12.000000   \n",
      "3     0.471405  13.000000   12.5  ...  -12.0  -12.0  -11.5   7.000000   \n",
      "4     0.942809  12.000000   12.0  ...  -11.0  -11.0   -9.0   2.000000   \n",
      "...        ...        ...    ...  ...    ...    ...    ...        ...   \n",
      "2688  0.000000  14.000000   14.0  ...   -3.0   -3.0   -3.0   6.000000   \n",
      "2689  0.000000   9.275226    0.0  ...    0.0    0.0    0.0   9.161061   \n",
      "2690  0.000000   9.275226    0.0  ...    0.0    0.0    0.0   9.161061   \n",
      "2691  0.000000   9.000000    9.0  ...  -12.0  -12.0  -11.5   7.000000   \n",
      "2692  0.000000   9.000000    9.0  ...  -12.0  -12.0  -12.0   8.000000   \n",
      "\n",
      "           SNR2      SNR3  sMajority  s25 P  s50 P  s75 P  \n",
      "0     12.000000   7.00000  12.000000    9.5   12.0   12.0  \n",
      "1     12.000000   7.00000  12.000000    9.5   12.0   12.0  \n",
      "2      7.000000   7.00000   7.000000    7.0    7.0    9.5  \n",
      "3      7.000000   2.00000   7.000000    4.5    7.0    7.0  \n",
      "4      2.000000   9.00000   2.000000    2.0    2.0    5.5  \n",
      "...         ...       ...        ...    ...    ...    ...  \n",
      "2688   6.000000   6.00000   6.000000    6.0    6.0    6.0  \n",
      "2689   9.202915   9.20441   9.197309    0.0    0.0    0.0  \n",
      "2690   9.202915   9.20441   9.197309    0.0    0.0    0.0  \n",
      "2691   7.000000  10.00000   7.000000    7.0    7.0    8.5  \n",
      "2692   9.000000   9.00000   9.000000    8.5    9.0    9.0  \n",
      "\n",
      "[2693 rows x 33 columns]\n"
     ]
    }
   ],
   "source": [
    "# Selective columns for mean calculation\n",
    "columns_to_convert = ['CQI1', 'CQI2', 'CQI3', 'cSTD CQI',\n",
    "       'cMajority', 'c25 P', 'c50 P', 'c75 P', 'RSRP1', 'RSRP2', 'RSRP3',\n",
    "       'pMajority', 'p25 P', 'p50 P', 'p75 P', 'RSRQ1', 'RSRQ2', 'RSRQ3',\n",
    "       'qMajority', 'q25 P', 'q50 P', 'q75 P', 'SNR1', 'SNR2', 'SNR3',\n",
    "       'sMajority', 's25 P', 's50 P', 's75 P']\n",
    "df[columns_to_convert] = df[columns_to_convert].astype(float)\n",
    "\n",
    "# Replace np.nan with mean values for selective columns\n",
    "df[columns_to_convert] = df[columns_to_convert].fillna(df[columns_to_convert].mean())\n",
    "\n",
    "# Display the modified DataFrame\n",
    "print(df)"
   ]
  },
  {
   "cell_type": "code",
   "execution_count": null,
   "metadata": {
    "colab": {
     "base_uri": "https://localhost:8080/"
    },
    "id": "iwMle4VXvOar",
    "outputId": "f15235be-9474-4a9d-ce6e-8930553102dd"
   },
   "outputs": [
    {
     "name": "stdout",
     "output_type": "stream",
     "text": [
      "ID           False\n",
      "Stall        False\n",
      "Quality      False\n",
      "Time         False\n",
      "CQI1         False\n",
      "CQI2         False\n",
      "CQI3         False\n",
      "cSTD CQI     False\n",
      "cMajority    False\n",
      "c25 P        False\n",
      "c50 P        False\n",
      "c75 P        False\n",
      "RSRP1        False\n",
      "RSRP2        False\n",
      "RSRP3        False\n",
      "pMajority    False\n",
      "p25 P        False\n",
      "p50 P        False\n",
      "p75 P        False\n",
      "RSRQ1        False\n",
      "RSRQ2        False\n",
      "RSRQ3        False\n",
      "qMajority    False\n",
      "q25 P        False\n",
      "q50 P        False\n",
      "q75 P        False\n",
      "SNR1         False\n",
      "SNR2         False\n",
      "SNR3         False\n",
      "sMajority    False\n",
      "s25 P        False\n",
      "s50 P        False\n",
      "s75 P        False\n",
      "dtype: bool\n"
     ]
    }
   ],
   "source": [
    "# Check which columns contain np.nan values\n",
    "columns_with_nan = df.isna().any()\n",
    "# Display the columns with np.nan values\n",
    "print(columns_with_nan)"
   ]
  },
  {
   "cell_type": "code",
   "execution_count": null,
   "metadata": {
    "id": "jsFpaDR4c0GH"
   },
   "outputs": [],
   "source": [
    "df['Stall'].replace('Yes', 1, inplace=True)\n",
    "df['Stall'].replace('No', 0, inplace=True)"
   ]
  },
  {
   "cell_type": "code",
   "execution_count": null,
   "metadata": {
    "colab": {
     "base_uri": "https://localhost:8080/"
    },
    "id": "DmoiwXGtEuoM",
    "outputId": "02a876de-5a96-4636-ff0a-6bba4db6d3d1"
   },
   "outputs": [
    {
     "name": "stdout",
     "output_type": "stream",
     "text": [
      "          ID  Stall   Quality      Time       CQI1       CQI2       CQI3  \\\n",
      "0      4P7s2      0    hd2160  16:14:29  13.000000  13.000000  13.000000   \n",
      "1      4P7s2      0    hd2160  16:14:30  13.000000  13.000000  13.000000   \n",
      "2      4P7s2      0    hd2160  16:14:31  13.000000  13.000000  13.000000   \n",
      "3      4P7s2      0    hd2160  16:14:32  13.000000  13.000000  12.000000   \n",
      "4      4P7s2      0    hd2160  16:14:33  12.000000  14.000000  12.000000   \n",
      "...      ...    ...       ...       ...        ...        ...        ...   \n",
      "2688  5Po26s      1  unknown,  17:43:18  14.000000  14.000000  14.000000   \n",
      "2689  4Po26s      1  unknown,  17:43:23   9.297063   9.271461   9.249437   \n",
      "2690  4Po26s      1   hd1440,  17:43:33   9.297063   9.271461   9.249437   \n",
      "2691   4I27s      1  unknown,  10:52:04   9.000000   9.000000   9.000000   \n",
      "2692   4I27s      1   hd1440,  10:52:16   9.000000   9.000000   9.000000   \n",
      "\n",
      "      cSTD CQI  cMajority  c25 P  ...  q25 P  q50 P  q75 P       SNR1  \\\n",
      "0     0.000000  13.000000   13.0  ...   -9.5   -7.0   -7.0  12.000000   \n",
      "1     0.000000  13.000000   13.0  ...   -9.5   -7.0   -7.0  12.000000   \n",
      "2     0.000000  13.000000   13.0  ...  -12.0  -12.0   -9.5  12.000000   \n",
      "3     0.471405  13.000000   12.5  ...  -12.0  -12.0  -11.5   7.000000   \n",
      "4     0.942809  12.000000   12.0  ...  -11.0  -11.0   -9.0   2.000000   \n",
      "...        ...        ...    ...  ...    ...    ...    ...        ...   \n",
      "2688  0.000000  14.000000   14.0  ...   -3.0   -3.0   -3.0   6.000000   \n",
      "2689  0.000000   9.275226    0.0  ...    0.0    0.0    0.0   9.161061   \n",
      "2690  0.000000   9.275226    0.0  ...    0.0    0.0    0.0   9.161061   \n",
      "2691  0.000000   9.000000    9.0  ...  -12.0  -12.0  -11.5   7.000000   \n",
      "2692  0.000000   9.000000    9.0  ...  -12.0  -12.0  -12.0   8.000000   \n",
      "\n",
      "           SNR2      SNR3  sMajority  s25 P  s50 P  s75 P  \n",
      "0     12.000000   7.00000  12.000000    9.5   12.0   12.0  \n",
      "1     12.000000   7.00000  12.000000    9.5   12.0   12.0  \n",
      "2      7.000000   7.00000   7.000000    7.0    7.0    9.5  \n",
      "3      7.000000   2.00000   7.000000    4.5    7.0    7.0  \n",
      "4      2.000000   9.00000   2.000000    2.0    2.0    5.5  \n",
      "...         ...       ...        ...    ...    ...    ...  \n",
      "2688   6.000000   6.00000   6.000000    6.0    6.0    6.0  \n",
      "2689   9.202915   9.20441   9.197309    0.0    0.0    0.0  \n",
      "2690   9.202915   9.20441   9.197309    0.0    0.0    0.0  \n",
      "2691   7.000000  10.00000   7.000000    7.0    7.0    8.5  \n",
      "2692   9.000000   9.00000   9.000000    8.5    9.0    9.0  \n",
      "\n",
      "[2693 rows x 33 columns]\n"
     ]
    }
   ],
   "source": [
    "print(df)"
   ]
  },
  {
   "cell_type": "code",
   "execution_count": null,
   "metadata": {
    "colab": {
     "base_uri": "https://localhost:8080/"
    },
    "id": "JMZvSleecToT",
    "outputId": "1ffa6aca-15ad-47b1-c81e-d2d1130671b7"
   },
   "outputs": [
    {
     "data": {
      "text/plain": [
       "Index(['ID', 'Stall', 'Quality', 'Time', 'CQI1', 'CQI2', 'CQI3', 'cSTD CQI',\n",
       "       'cMajority', 'c25 P', 'c50 P', 'c75 P', 'RSRP1', 'RSRP2', 'RSRP3',\n",
       "       'pMajority', 'p25 P', 'p50 P', 'p75 P', 'RSRQ1', 'RSRQ2', 'RSRQ3',\n",
       "       'qMajority', 'q25 P', 'q50 P', 'q75 P', 'SNR1', 'SNR2', 'SNR3',\n",
       "       'sMajority', 's25 P', 's50 P', 's75 P'],\n",
       "      dtype='object')"
      ]
     },
     "execution_count": 17,
     "metadata": {},
     "output_type": "execute_result"
    }
   ],
   "source": [
    "df.columns"
   ]
  },
  {
   "cell_type": "code",
   "execution_count": null,
   "metadata": {
    "id": "KqZiOAnEcFNy"
   },
   "outputs": [],
   "source": [
    "X = df[['CQI1', 'CQI2', 'CQI3', 'cSTD CQI',\n",
    "       'cMajority', 'c25 P', 'c50 P', 'c75 P', 'RSRP1', 'RSRP2', 'RSRP3',\n",
    "       'pMajority', 'p25 P', 'p50 P', 'p75 P', 'RSRQ1', 'RSRQ2', 'RSRQ3',\n",
    "       'qMajority', 'q25 P', 'q50 P', 'q75 P', 'SNR1', 'SNR2', 'SNR3',\n",
    "       'sMajority', 's25 P', 's50 P', 's75 P']].values"
   ]
  },
  {
   "cell_type": "code",
   "execution_count": null,
   "metadata": {
    "id": "0Uz-Lf3ycYcM"
   },
   "outputs": [],
   "source": [
    "y = df['Stall'].values"
   ]
  },
  {
   "cell_type": "code",
   "execution_count": null,
   "metadata": {
    "colab": {
     "base_uri": "https://localhost:8080/"
    },
    "id": "NPGxzwbi1dSF",
    "outputId": "42b701ec-e5ce-4074-a213-3f1b84a1f9b6"
   },
   "outputs": [
    {
     "data": {
      "text/plain": [
       "((2693, 29), (2693,))"
      ]
     },
     "execution_count": 20,
     "metadata": {},
     "output_type": "execute_result"
    }
   ],
   "source": [
    "X.shape, y.shape"
   ]
  },
  {
   "cell_type": "code",
   "execution_count": null,
   "metadata": {
    "id": "Fbj2trSTd_61"
   },
   "outputs": [],
   "source": [
    "import numpy as np"
   ]
  },
  {
   "cell_type": "code",
   "execution_count": null,
   "metadata": {
    "id": "iCFjyyRnc4e-"
   },
   "outputs": [],
   "source": [
    "import sklearn\n",
    "from sklearn.model_selection import train_test_split"
   ]
  },
  {
   "cell_type": "code",
   "execution_count": null,
   "metadata": {
    "colab": {
     "base_uri": "https://localhost:8080/",
     "height": 35
    },
    "id": "Nk_tQrGR4DYU",
    "outputId": "1af102da-f096-4482-a431-58dafc101322"
   },
   "outputs": [
    {
     "data": {
      "application/vnd.google.colaboratory.intrinsic+json": {
       "type": "string"
      },
      "text/plain": [
       "'1.2.2'"
      ]
     },
     "execution_count": 23,
     "metadata": {},
     "output_type": "execute_result"
    }
   ],
   "source": [
    "sklearn.__version__"
   ]
  },
  {
   "cell_type": "code",
   "execution_count": null,
   "metadata": {
    "id": "89vPLfwEM_PP"
   },
   "outputs": [],
   "source": [
    "import imblearn\n",
    "from imblearn.over_sampling import SMOTE"
   ]
  },
  {
   "cell_type": "code",
   "execution_count": null,
   "metadata": {
    "colab": {
     "base_uri": "https://localhost:8080/",
     "height": 35
    },
    "id": "5xTKs75t4NtI",
    "outputId": "3360078e-e744-4381-96f0-004216e61245"
   },
   "outputs": [
    {
     "data": {
      "application/vnd.google.colaboratory.intrinsic+json": {
       "type": "string"
      },
      "text/plain": [
       "'0.10.1'"
      ]
     },
     "execution_count": 25,
     "metadata": {},
     "output_type": "execute_result"
    }
   ],
   "source": [
    "imblearn.__version__"
   ]
  },
  {
   "cell_type": "code",
   "execution_count": null,
   "metadata": {
    "id": "Uukc_gID4R2E"
   },
   "outputs": [],
   "source": [
    "oversample = SMOTE()\n",
    "X, y = oversample.fit_resample(X, y)"
   ]
  },
  {
   "cell_type": "code",
   "execution_count": null,
   "metadata": {
    "colab": {
     "base_uri": "https://localhost:8080/"
    },
    "id": "bvaCa6r3BvrK",
    "outputId": "af374082-6ebf-4c99-e7ae-0d7dd0cc6f7d"
   },
   "outputs": [
    {
     "data": {
      "text/plain": [
       "(3524, 29)"
      ]
     },
     "execution_count": 27,
     "metadata": {},
     "output_type": "execute_result"
    }
   ],
   "source": [
    "from sklearn.preprocessing import StandardScaler\n",
    "scaler = StandardScaler()\n",
    "X = scaler.fit_transform(X)\n",
    "X.shape"
   ]
  },
  {
   "cell_type": "code",
   "execution_count": null,
   "metadata": {
    "id": "gkOL3bMlNdOP"
   },
   "outputs": [],
   "source": [
    "X = torch.from_numpy(X).type(torch.float32)\n",
    "y = torch.from_numpy(y).type(torch.float32)"
   ]
  },
  {
   "cell_type": "code",
   "execution_count": null,
   "metadata": {
    "colab": {
     "base_uri": "https://localhost:8080/"
    },
    "id": "pxNRza7idOxY",
    "outputId": "14177788-6c9c-49f9-d372-ded4ea053a5d"
   },
   "outputs": [
    {
     "data": {
      "text/plain": [
       "torch.Size([3524, 29])"
      ]
     },
     "execution_count": 29,
     "metadata": {},
     "output_type": "execute_result"
    }
   ],
   "source": [
    "X.shape"
   ]
  },
  {
   "cell_type": "code",
   "execution_count": null,
   "metadata": {
    "colab": {
     "base_uri": "https://localhost:8080/"
    },
    "id": "RlTO_K6NBvrL",
    "outputId": "63f3caca-e374-43e8-a2d8-26c3ece7dbc3"
   },
   "outputs": [
    {
     "data": {
      "text/plain": [
       "tensor([ 1.3551,  1.3578,  1.3715, -0.8032,  1.3567,  1.5745,  1.3320,  1.2150,\n",
       "         1.7027,  1.6979,  1.3029,  1.6994,  1.2636,  1.3922,  1.3648,  0.6057,\n",
       "         0.6058, -0.5052,  0.6033,  0.0857,  0.5796,  0.5442,  0.4621,  0.4555,\n",
       "        -0.1812,  0.4575,  0.1983,  0.4634,  0.4200])"
      ]
     },
     "execution_count": 30,
     "metadata": {},
     "output_type": "execute_result"
    }
   ],
   "source": [
    "X[0]"
   ]
  },
  {
   "cell_type": "code",
   "execution_count": null,
   "metadata": {
    "colab": {
     "base_uri": "https://localhost:8080/"
    },
    "id": "rCvEQdyuliPn",
    "outputId": "da4545c0-0145-4d3c-9d68-5e4989df62a1"
   },
   "outputs": [
    {
     "data": {
      "text/plain": [
       "torch.Size([3524])"
      ]
     },
     "execution_count": 31,
     "metadata": {},
     "output_type": "execute_result"
    }
   ],
   "source": [
    "y.shape"
   ]
  },
  {
   "cell_type": "code",
   "execution_count": null,
   "metadata": {
    "colab": {
     "base_uri": "https://localhost:8080/"
    },
    "id": "a8gv73lHloJ_",
    "outputId": "349b7ad9-de75-4174-e723-386e4f97c887"
   },
   "outputs": [
    {
     "name": "stdout",
     "output_type": "stream",
     "text": [
      "X_train: tensor([[ 0.2905,  1.3578, -0.3996,  1.3912,  0.2987,  0.1456,  0.3388,  0.7077,\n",
      "          0.9935,  0.9905,  0.9906,  0.9918,  0.8294,  0.7938,  0.7658,  0.3826,\n",
      "          0.3838, -0.0594,  0.3814,  0.1942,  0.3612,  0.3194,  1.1020,  1.0953,\n",
      "          0.9683,  1.0983,  1.0942,  1.1010,  1.0657]]) \n",
      "X_train_shape: torch.Size([1, 29]) \n",
      "X_test: tensor([[ 2.0649,  1.7108,  1.7257, -0.2998,  1.7094,  1.9318,  1.6630,  1.7222,\n",
      "          1.6239,  1.7765,  1.6152,  1.6207,  1.3638,  1.3257,  1.3648,  1.4979,\n",
      "          1.4938,  1.5006,  1.4907,  1.4969,  1.4533,  1.4435,  1.7418,  1.7350,\n",
      "          1.7346,  1.7392,  1.7981,  1.7385,  1.7114]]) \n",
      "X_test_shape: torch.Size([1, 29]) \n",
      "y_train: tensor([0.]) \n",
      "y_test: tensor([0.])\n"
     ]
    }
   ],
   "source": [
    "from sklearn.model_selection import train_test_split\n",
    "\n",
    "X_train, X_test, y_train, y_test = train_test_split(X,\n",
    "                                                    y,\n",
    "                                                    test_size=0.2,\n",
    "                                                    random_state=42\n",
    ")\n",
    "\n",
    "print(\"X_train:\", X_train[:1],\"\\nX_train_shape:\", X_train[:1].shape,\"\\nX_test:\", X_test[:1],\"\\nX_test_shape:\",X_test[:1].shape, \"\\ny_train:\", y_train[:1],\"\\ny_test:\", y_test[:1])"
   ]
  },
  {
   "cell_type": "code",
   "execution_count": null,
   "metadata": {
    "colab": {
     "base_uri": "https://localhost:8080/"
    },
    "id": "QDTLbnHC4LSo",
    "outputId": "9b37bbd8-08f4-4d51-e3cd-adb882b91cfa"
   },
   "outputs": [
    {
     "name": "stdout",
     "output_type": "stream",
     "text": [
      "X_train: tensor([[ 0.2905,  1.3578, -0.3996,  1.3912,  0.2987,  0.1456,  0.3388,  0.7077,\n",
      "          0.9935,  0.9905,  0.9906,  0.9918,  0.8294,  0.7938,  0.7658,  0.3826,\n",
      "          0.3838, -0.0594,  0.3814,  0.1942,  0.3612,  0.3194,  1.1020,  1.0953,\n",
      "          0.9683,  1.0983,  1.0942,  1.1010,  1.0657]])\n"
     ]
    }
   ],
   "source": [
    "print(\"X_train:\", X_train[:1])"
   ]
  },
  {
   "cell_type": "code",
   "execution_count": null,
   "metadata": {
    "id": "zi5yZmFQGWjH"
   },
   "outputs": [],
   "source": [
    "torch.save(X_train, \"/tmp/X_train.pt\")"
   ]
  },
  {
   "cell_type": "code",
   "execution_count": null,
   "metadata": {
    "colab": {
     "base_uri": "https://localhost:8080/"
    },
    "id": "D8YilSYm4HMk",
    "outputId": "de0e51aa-2da6-4322-d634-f2da9eb33d5b"
   },
   "outputs": [
    {
     "name": "stdout",
     "output_type": "stream",
     "text": [
      "X_train: tensor([[ 0.2905,  1.3578, -0.3996,  1.3912,  0.2987,  0.1456,  0.3388,  0.7077,\n",
      "          0.9935,  0.9905,  0.9906,  0.9918,  0.8294,  0.7938,  0.7658,  0.3826,\n",
      "          0.3838, -0.0594,  0.3814,  0.1942,  0.3612,  0.3194,  1.1020,  1.0953,\n",
      "          0.9683,  1.0983,  1.0942,  1.1010,  1.0657]])\n"
     ]
    }
   ],
   "source": [
    "X_train_loaded = torch.load(\"/tmp/X_train.pt\")\n",
    "print(\"X_train:\", X_train_loaded[:1])"
   ]
  },
  {
   "cell_type": "code",
   "execution_count": null,
   "metadata": {
    "colab": {
     "base_uri": "https://localhost:8080/"
    },
    "id": "WZfSubyMpcAH",
    "outputId": "04ce14c4-e30c-433e-f447-c74c3a2da7df"
   },
   "outputs": [
    {
     "data": {
      "text/plain": [
       "torch.Tensor"
      ]
     },
     "execution_count": 36,
     "metadata": {},
     "output_type": "execute_result"
    }
   ],
   "source": [
    "type(X_train)"
   ]
  },
  {
   "cell_type": "code",
   "execution_count": null,
   "metadata": {
    "colab": {
     "base_uri": "https://localhost:8080/",
     "height": 35
    },
    "id": "-RX--XqwmgWm",
    "outputId": "6769a4d0-e488-4542-cae9-3dbd4751fc66"
   },
   "outputs": [
    {
     "data": {
      "application/vnd.google.colaboratory.intrinsic+json": {
       "type": "string"
      },
      "text/plain": [
       "'cuda'"
      ]
     },
     "execution_count": 37,
     "metadata": {},
     "output_type": "execute_result"
    }
   ],
   "source": [
    "device = \"cuda\" if torch.cuda.is_available() else \"cpu\"\n",
    "device"
   ]
  },
  {
   "cell_type": "code",
   "execution_count": null,
   "metadata": {
    "colab": {
     "base_uri": "https://localhost:8080/"
    },
    "id": "a4mOVimKl1Te",
    "outputId": "946a66ec-717d-4e37-9803-5f943de157f0"
   },
   "outputs": [
    {
     "name": "stdout",
     "output_type": "stream",
     "text": [
      "InteruptionModel(\n",
      "  (layer_1): Linear(in_features=29, out_features=200, bias=True)\n",
      "  (layer_2): Linear(in_features=200, out_features=100, bias=True)\n",
      "  (layer_3): Linear(in_features=100, out_features=1, bias=True)\n",
      "  (relu): ReLU()\n",
      ")\n"
     ]
    }
   ],
   "source": [
    "# Build model with non-linear activation function\n",
    "from torch import nn\n",
    "class InteruptionModel(nn.Module):\n",
    "    def __init__(self):\n",
    "        super().__init__()\n",
    "        self.layer_1 = nn.Linear(in_features=29, out_features=200)\n",
    "        self.layer_2 = nn.Linear(in_features=200, out_features=100)\n",
    "        self.layer_3 = nn.Linear(in_features=100, out_features=1)\n",
    "        self.relu = nn.ReLU() # <- add in ReLU activation function\n",
    "        # Can also put sigmoid in the model\n",
    "        # This would mean you don't need to use it on the predictions\n",
    "        # self.sigmoid = nn.Sigmoid()\n",
    "\n",
    "    def forward(self, x):\n",
    "      # Intersperse the ReLU activation function between layers\n",
    "       return self.layer_3(self.relu(self.layer_2(self.relu(self.layer_1(x)))))\n",
    "\n",
    "model_3 = InteruptionModel().to(device)\n",
    "print(model_3)"
   ]
  },
  {
   "cell_type": "code",
   "execution_count": null,
   "metadata": {
    "colab": {
     "base_uri": "https://localhost:8080/"
    },
    "id": "4LdQs1yMHyTC",
    "outputId": "d0b4c727-4d2e-40ed-aaeb-43e703ca2656"
   },
   "outputs": [
    {
     "data": {
      "text/plain": [
       "OrderedDict([('layer_1.weight',\n",
       "              tensor([[-0.1478, -0.1038,  0.1117,  ...,  0.0241,  0.0003, -0.0470],\n",
       "                      [ 0.1259, -0.0350, -0.0410,  ..., -0.0713,  0.1540,  0.0846],\n",
       "                      [-0.1577,  0.1240, -0.0738,  ...,  0.0188,  0.0973, -0.1541],\n",
       "                      ...,\n",
       "                      [ 0.1070,  0.1628, -0.0788,  ..., -0.1855, -0.0840, -0.1221],\n",
       "                      [ 0.1574,  0.1169, -0.1040,  ..., -0.0832, -0.1809,  0.0447],\n",
       "                      [-0.1300,  0.0310,  0.0321,  ..., -0.1258,  0.0133,  0.1340]],\n",
       "                     device='cuda:0')),\n",
       "             ('layer_1.bias',\n",
       "              tensor([-0.1675, -0.1779,  0.0857,  0.0352,  0.0936,  0.0356,  0.0516,  0.0427,\n",
       "                       0.0423, -0.1282, -0.1097, -0.0665, -0.0674,  0.1301, -0.0953,  0.0152,\n",
       "                       0.1556,  0.1099, -0.0860, -0.0002, -0.0114, -0.1834,  0.1564, -0.1129,\n",
       "                       0.0770,  0.0483,  0.1712,  0.0623, -0.1242, -0.1688, -0.1318,  0.1689,\n",
       "                      -0.0783,  0.0061, -0.1651, -0.0267, -0.1532, -0.1834,  0.1040, -0.1030,\n",
       "                      -0.1487, -0.0002,  0.1831,  0.1159, -0.1632,  0.0329,  0.0422, -0.1818,\n",
       "                       0.0312,  0.1407,  0.1063,  0.0280, -0.0425,  0.0311,  0.0360, -0.1422,\n",
       "                      -0.1025, -0.0314,  0.0779,  0.0130, -0.0174,  0.1322, -0.1334,  0.1246,\n",
       "                      -0.1720,  0.0237, -0.0372, -0.0445, -0.1000,  0.1783,  0.0873,  0.0418,\n",
       "                      -0.0487,  0.1213, -0.0058,  0.0951,  0.1827,  0.0464,  0.1341,  0.1560,\n",
       "                       0.1219, -0.0580, -0.0504,  0.0155, -0.1638, -0.1329,  0.0023, -0.1046,\n",
       "                      -0.0017, -0.0481,  0.0227,  0.1102,  0.0466,  0.0731,  0.1549,  0.0236,\n",
       "                       0.0455, -0.0505,  0.0605,  0.1330, -0.1700,  0.1532, -0.1242, -0.1653,\n",
       "                       0.1826,  0.0850, -0.0877, -0.0136, -0.0712, -0.1032, -0.0593, -0.0604,\n",
       "                       0.1043,  0.1767, -0.0665,  0.0914, -0.0813, -0.1762,  0.0668, -0.0850,\n",
       "                      -0.0833,  0.1786, -0.0122, -0.1042,  0.1211,  0.0119,  0.1386,  0.0285,\n",
       "                       0.0561,  0.1009, -0.0784, -0.0292,  0.1405,  0.0637, -0.0564, -0.0899,\n",
       "                      -0.0741, -0.0644, -0.0313, -0.0317,  0.1468, -0.0984,  0.1232, -0.1357,\n",
       "                       0.1715, -0.0505,  0.1652, -0.1156, -0.0556, -0.0809,  0.0565,  0.0993,\n",
       "                       0.0003,  0.0425,  0.1401,  0.0853,  0.1790, -0.0095, -0.0204, -0.0201,\n",
       "                      -0.1031, -0.1452,  0.0140, -0.0785, -0.0595, -0.1689,  0.1115,  0.1679,\n",
       "                       0.1276, -0.0983, -0.0789, -0.0898,  0.0162, -0.0428,  0.1380, -0.0483,\n",
       "                       0.1237, -0.1362,  0.0142,  0.1434, -0.0761, -0.1242,  0.1436, -0.0912,\n",
       "                       0.1413,  0.0210,  0.1278,  0.1746, -0.1687, -0.0622, -0.0717,  0.1463,\n",
       "                       0.0209, -0.0347, -0.1149,  0.0058,  0.0686, -0.0309, -0.0531, -0.0199],\n",
       "                     device='cuda:0')),\n",
       "             ('layer_2.weight',\n",
       "              tensor([[ 0.0082,  0.0119, -0.0448,  ...,  0.0520,  0.0085,  0.0275],\n",
       "                      [-0.0624,  0.0625,  0.0188,  ..., -0.0410,  0.0363,  0.0391],\n",
       "                      [-0.0642,  0.0679, -0.0528,  ...,  0.0477, -0.0193,  0.0118],\n",
       "                      ...,\n",
       "                      [-0.0440, -0.0521, -0.0218,  ...,  0.0543, -0.0373,  0.0524],\n",
       "                      [-0.0444,  0.0599,  0.0275,  ...,  0.0594,  0.0117, -0.0118],\n",
       "                      [ 0.0670, -0.0584,  0.0659,  ...,  0.0557,  0.0012,  0.0257]],\n",
       "                     device='cuda:0')),\n",
       "             ('layer_2.bias',\n",
       "              tensor([ 0.0041, -0.0284, -0.0589,  0.0473, -0.0248,  0.0199, -0.0517, -0.0285,\n",
       "                      -0.0028, -0.0240, -0.0688, -0.0436,  0.0021, -0.0357,  0.0170,  0.0210,\n",
       "                      -0.0650, -0.0011, -0.0072, -0.0503,  0.0503,  0.0188, -0.0165, -0.0043,\n",
       "                       0.0553,  0.0367, -0.0428, -0.0594, -0.0382,  0.0409, -0.0133, -0.0653,\n",
       "                       0.0675, -0.0489, -0.0079, -0.0140,  0.0465, -0.0429, -0.0408,  0.0376,\n",
       "                      -0.0559,  0.0303, -0.0536, -0.0421, -0.0507, -0.0138, -0.0519,  0.0224,\n",
       "                       0.0200, -0.0613, -0.0705,  0.0642, -0.0001,  0.0436,  0.0528, -0.0276,\n",
       "                       0.0542,  0.0291,  0.0187,  0.0005,  0.0645, -0.0594,  0.0486, -0.0693,\n",
       "                       0.0378, -0.0252,  0.0316, -0.0095,  0.0193,  0.0153,  0.0307,  0.0409,\n",
       "                       0.0493,  0.0591,  0.0103, -0.0306,  0.0062,  0.0154, -0.0673,  0.0460,\n",
       "                      -0.0267,  0.0073,  0.0397,  0.0649, -0.0002,  0.0515, -0.0642, -0.0501,\n",
       "                      -0.0366, -0.0243,  0.0190, -0.0038,  0.0334, -0.0161, -0.0045, -0.0688,\n",
       "                       0.0426, -0.0521,  0.0150, -0.0618], device='cuda:0')),\n",
       "             ('layer_3.weight',\n",
       "              tensor([[ 0.0557, -0.0140,  0.0979,  0.0614, -0.0899,  0.0840,  0.0432,  0.0580,\n",
       "                       -0.0282, -0.0309, -0.0960, -0.0185,  0.0577,  0.0090,  0.0672, -0.0397,\n",
       "                        0.0033, -0.0912,  0.0902,  0.0800, -0.0630,  0.0843,  0.0531,  0.0889,\n",
       "                       -0.0454, -0.0874,  0.0725,  0.0686, -0.0435, -0.0351, -0.0704, -0.0534,\n",
       "                        0.0079,  0.0260,  0.0925, -0.0923,  0.0988, -0.0644, -0.0398, -0.0450,\n",
       "                        0.0415, -0.0039,  0.0857,  0.0669, -0.0222, -0.0782, -0.0556, -0.0354,\n",
       "                       -0.0368, -0.0536, -0.0737,  0.0712, -0.0596,  0.0584, -0.0484,  0.0394,\n",
       "                        0.0422, -0.0263, -0.0594,  0.0154, -0.0996,  0.0591, -0.0649,  0.0560,\n",
       "                        0.0154,  0.0001,  0.0134,  0.0892, -0.0535,  0.0227,  0.0220, -0.0593,\n",
       "                       -0.0887,  0.0860,  0.0989,  0.0407,  0.0468,  0.0108,  0.0393, -0.0014,\n",
       "                        0.0967, -0.0202,  0.0051, -0.0902, -0.0850,  0.0658,  0.0867, -0.0719,\n",
       "                        0.0153,  0.0641, -0.0980,  0.0184, -0.0108, -0.0111,  0.0849,  0.0311,\n",
       "                       -0.0872, -0.0764,  0.0902, -0.0423]], device='cuda:0')),\n",
       "             ('layer_3.bias', tensor([0.0565], device='cuda:0'))])"
      ]
     },
     "execution_count": 40,
     "metadata": {},
     "output_type": "execute_result"
    }
   ],
   "source": [
    "model_3.state_dict()"
   ]
  },
  {
   "cell_type": "code",
   "execution_count": null,
   "metadata": {
    "id": "Klsrww6wmhnp"
   },
   "outputs": [],
   "source": [
    "# Setup loss and optimizer\n",
    "loss_fn = nn.BCEWithLogitsLoss()\n",
    "optimizer = torch.optim.Adam(model_3.parameters(), lr=0.0001)"
   ]
  },
  {
   "cell_type": "code",
   "execution_count": null,
   "metadata": {
    "id": "LQsS4A83m2_j"
   },
   "outputs": [],
   "source": [
    "def accuracy_fn(y_true, y_pred):\n",
    "    correct = torch.eq(y_true, y_pred).sum().item() # torch.eq() calculates where two tensors are equal\n",
    "    acc = (correct / len(y_pred)) * 100\n",
    "    return acc"
   ]
  },
  {
   "cell_type": "code",
   "execution_count": null,
   "metadata": {
    "colab": {
     "base_uri": "https://localhost:8080/"
    },
    "id": "XmgM-bVvmpqO",
    "outputId": "5d9adfdd-de8e-4533-d543-634a95d21a61"
   },
   "outputs": [
    {
     "name": "stdout",
     "output_type": "stream",
     "text": [
      "Epoch: 0 | Loss: 0.68889, Accuracy: 51.15% | Test Loss: 0.68856, Test Accuracy: 50.92%\n",
      "Epoch: 500 | Loss: 0.47335, Accuracy: 77.72% | Test Loss: 0.49773, Test Accuracy: 77.16%\n",
      "Epoch: 1000 | Loss: 0.35664, Accuracy: 84.25% | Test Loss: 0.44451, Test Accuracy: 80.00%\n",
      "Epoch: 1500 | Loss: 0.24264, Accuracy: 90.74% | Test Loss: 0.42692, Test Accuracy: 82.55%\n",
      "Epoch: 2000 | Loss: 0.15991, Accuracy: 95.10% | Test Loss: 0.44582, Test Accuracy: 83.97%\n",
      "Epoch: 2500 | Loss: 0.10862, Accuracy: 97.06% | Test Loss: 0.48712, Test Accuracy: 84.54%\n",
      "Epoch: 3000 | Loss: 0.07627, Accuracy: 98.01% | Test Loss: 0.53836, Test Accuracy: 83.83%\n"
     ]
    }
   ],
   "source": [
    "# Fit the model\n",
    "torch.manual_seed(42)\n",
    "epochs = 3500\n",
    "\n",
    "# Put all data on target device\n",
    "X_train, y_train = X_train.to(device), y_train.to(device)\n",
    "X_test, y_test = X_test.to(device), y_test.to(device)\n",
    "\n",
    "\n",
    "for epoch in range(epochs):\n",
    "    # 1. Forward pass\n",
    "    y_logits = model_3(X_train).squeeze()\n",
    "\n",
    "    y_pred = torch.round(torch.sigmoid(y_logits)) # logits -> prediction probabilities -> prediction labels\n",
    "\n",
    "    # 2. Calculate loss and accuracy\n",
    "    loss = loss_fn(y_logits, y_train) # BCEWithLogitsLoss calculates loss using logits\n",
    "    acc = accuracy_fn(y_true=y_train,\n",
    "                      y_pred=y_pred)\n",
    "\n",
    "    # 3. Optimizer zero grad\n",
    "    optimizer.zero_grad()\n",
    "\n",
    "    # 4. Loss backward\n",
    "    loss.backward()\n",
    "\n",
    "    # 5. Optimizer step\n",
    "    optimizer.step()\n",
    "\n",
    "    ### Testing\n",
    "    model_3.eval()\n",
    "    with torch.no_grad():\n",
    "      # 1. Forward pass\n",
    "        test_logits = model_3(X_test).squeeze()\n",
    "        #print(test_logits.shape)\n",
    "        test_pred = torch.round(torch.sigmoid(test_logits)) # logits -> prediction probabilities -> prediction labels\n",
    "        # 2. Calcuate loss and accuracy\n",
    "        test_loss = loss_fn(test_logits, y_test)\n",
    "        test_acc = accuracy_fn(y_true=y_test,\n",
    "                             y_pred=test_pred)\n",
    "\n",
    "\n",
    "    # Print out what's happening\n",
    "    if epoch % 500 == 0:\n",
    "        print(f\"Epoch: {epoch} | Loss: {loss:.5f}, Accuracy: {acc:.2f}% | Test Loss: {test_loss:.5f}, Test Accuracy: {test_acc:.2f}%\")"
   ]
  },
  {
   "cell_type": "code",
   "execution_count": null,
   "metadata": {
    "id": "f0ajvarorOFf"
   },
   "outputs": [],
   "source": [
    "model_3.eval()\n",
    "with torch.no_grad():\n",
    "     y_preds = torch.round(torch.sigmoid(model_3(X_test))).squeeze()"
   ]
  },
  {
   "cell_type": "code",
   "execution_count": null,
   "metadata": {
    "colab": {
     "base_uri": "https://localhost:8080/"
    },
    "id": "eoflm9NgrrrZ",
    "outputId": "b1b7c1fe-7358-4c1a-8a60-4a6d0cee6c5f"
   },
   "outputs": [
    {
     "data": {
      "text/plain": [
       "(torch.Size([705]), torch.Size([705]))"
      ]
     },
     "execution_count": 45,
     "metadata": {},
     "output_type": "execute_result"
    }
   ],
   "source": [
    "y_preds.shape,y_test.shape"
   ]
  },
  {
   "cell_type": "code",
   "execution_count": null,
   "metadata": {
    "id": "COMEFsAjrs7g"
   },
   "outputs": [],
   "source": [
    "if device == \"cuda\":\n",
    "  predictions = y_preds.cpu().numpy() #if it is cuda, then this, otherwise y_pred.numpy()\n",
    "  true_labels = y_test.cpu().numpy()\n",
    "else:\n",
    "  predictions = y_preds.numpy()\n",
    "  true_labels = y_test.numpy()"
   ]
  },
  {
   "cell_type": "code",
   "execution_count": null,
   "metadata": {
    "colab": {
     "base_uri": "https://localhost:8080/"
    },
    "id": "fxDeucCxs6U8",
    "outputId": "5d94445d-cb33-4cdb-fd47-8824d5d25dba"
   },
   "outputs": [
    {
     "name": "stdout",
     "output_type": "stream",
     "text": [
      "=== Confusion Matrix ===\n",
      "[[313  57]\n",
      " [ 51 284]]\n",
      "\n",
      "\n",
      "=== Score ===\n",
      "Accuracy: 0.846809\n",
      "Precision: 0.847039\n",
      "Recall: 0.846809\n",
      "Micro F1 score: 0.846809\n",
      "Macro F1 score: 0.846549\n"
     ]
    }
   ],
   "source": [
    "from sklearn.metrics import accuracy_score\n",
    "from sklearn.metrics import confusion_matrix\n",
    "from sklearn.metrics import classification_report\n",
    "from sklearn.metrics import precision_score\n",
    "from sklearn.metrics import recall_score\n",
    "from sklearn.metrics import f1_score,fbeta_score\n",
    "\n",
    "print(\"=== Confusion Matrix ===\")\n",
    "print(confusion_matrix(true_labels, predictions))\n",
    "print('\\n')\n",
    "\n",
    "\n",
    "print(\"=== Score ===\")\n",
    "accuracy = accuracy_score(true_labels, predictions)\n",
    "print('Accuracy: %f' % accuracy)\n",
    "\n",
    "precision = precision_score(true_labels,  predictions, average='weighted')\n",
    "print('Precision: %f' % precision)\n",
    "recall = recall_score(true_labels, predictions, average='weighted')\n",
    "print('Recall: %f' % recall)\n",
    "\n",
    "microf1 = f1_score(true_labels, predictions, average='micro')\n",
    "print('Micro F1 score: %f' % microf1)\n",
    "macrof1 = f1_score(true_labels, predictions, average='macro')\n",
    "print('Macro F1 score: %f' % macrof1)"
   ]
  },
  {
   "cell_type": "code",
   "execution_count": null,
   "metadata": {
    "colab": {
     "base_uri": "https://localhost:8080/"
    },
    "id": "ACAmFpC-tJ0o",
    "outputId": "a15d74c6-aa9f-4fb4-cfb8-2e777781a127"
   },
   "outputs": [
    {
     "name": "stdout",
     "output_type": "stream",
     "text": [
      "              precision    recall  f1-score   support\n",
      "\n",
      "    No-Stall       0.86      0.85      0.85       370\n",
      "       Stall       0.83      0.85      0.84       335\n",
      "\n",
      "    accuracy                           0.85       705\n",
      "   macro avg       0.85      0.85      0.85       705\n",
      "weighted avg       0.85      0.85      0.85       705\n",
      "\n"
     ]
    }
   ],
   "source": [
    "target_names = ['No-Stall', 'Stall']\n",
    "# Print precision-recall report\n",
    "print(classification_report(true_labels, predictions, target_names=target_names))"
   ]
  },
  {
   "cell_type": "code",
   "execution_count": null,
   "metadata": {
    "id": "XNsSYjD2tSlO"
   },
   "outputs": [],
   "source": [
    "#Done"
   ]
  },
  {
   "cell_type": "code",
   "execution_count": null,
   "metadata": {
    "colab": {
     "base_uri": "https://localhost:8080/"
    },
    "collapsed": true,
    "id": "jwMNWuL9HSUQ",
    "jupyter": {
     "outputs_hidden": true
    },
    "outputId": "322f22f0-ef86-4dfa-e7ea-fce57597a9a9"
   },
   "outputs": [
    {
     "data": {
      "text/plain": [
       "OrderedDict([('layer_1.weight',\n",
       "              tensor([[-0.1181, -0.2897,  0.2402,  ...,  0.0786, -0.0192, -0.0708],\n",
       "                      [ 0.3033,  0.1498,  0.0530,  ..., -0.0489,  0.1703,  0.0055],\n",
       "                      [-0.3527,  0.1504, -0.2244,  ..., -0.0177,  0.0182, -0.1590],\n",
       "                      ...,\n",
       "                      [ 0.2363,  0.3492, -0.0924,  ..., -0.2666, -0.1514, -0.1557],\n",
       "                      [ 0.2733,  0.2658,  0.0071,  ..., -0.1247, -0.3160, -0.1239],\n",
       "                      [-0.2570,  0.1280,  0.1380,  ..., -0.0841,  0.0064,  0.0559]],\n",
       "                     device='cuda:0')),\n",
       "             ('layer_1.bias',\n",
       "              tensor([-3.1601e-01, -5.1487e-01, -1.7978e-02,  1.9502e-01,  2.6011e-01,\n",
       "                       2.5126e-01,  2.2115e-01, -1.0488e-01,  5.4405e-02,  4.6935e-02,\n",
       "                      -4.7367e-01, -3.3694e-01,  8.0895e-02,  2.2344e-01,  8.2236e-02,\n",
       "                      -5.8523e-02,  3.2312e-01,  1.6754e-01, -2.3926e-01,  1.4068e-02,\n",
       "                      -3.0166e-01, -3.6749e-01,  4.0841e-01, -1.7539e-01,  1.5779e-01,\n",
       "                      -6.5904e-02,  4.3196e-01,  1.0419e-01, -2.5000e-01, -3.0675e-01,\n",
       "                      -1.9789e-01,  3.1118e-01, -1.7037e-01, -3.3119e-02, -3.3214e-01,\n",
       "                      -2.4275e-01, -1.8895e-01, -2.6060e-01,  3.0514e-01, -1.6341e-01,\n",
       "                      -1.1444e-01, -1.7519e-01,  3.2958e-01,  3.5023e-01, -1.2868e-01,\n",
       "                       1.3917e-01,  1.4832e-01, -4.7260e-01,  2.9891e-01,  2.2614e-01,\n",
       "                       2.3721e-01,  1.0704e-01, -2.9670e-01, -2.0435e-02,  1.4051e-01,\n",
       "                      -1.1928e-01, -1.0681e-01, -1.6505e-01,  2.5372e-01, -1.3567e-01,\n",
       "                      -1.5848e-01,  4.7312e-01, -3.0183e-02,  2.2858e-01, -1.9783e-01,\n",
       "                       1.5454e-01, -1.1851e-01, -8.4053e-02, -1.0725e-01,  2.8602e-01,\n",
       "                       3.8759e-01,  1.2335e-01, -6.6514e-02,  3.1009e-01,  4.8405e-03,\n",
       "                       2.5181e-01,  1.1526e-01, -2.0672e-04,  3.4979e-01,  4.1922e-01,\n",
       "                       1.3643e-01, -1.0080e-01, -3.1353e-01,  1.4899e-01, -3.1493e-01,\n",
       "                      -2.2703e-01, -8.0785e-02, -2.7293e-01, -1.5278e-01, -2.6887e-01,\n",
       "                      -1.5004e-01,  3.2656e-01, -4.7716e-02,  2.5969e-02,  2.5007e-01,\n",
       "                      -1.0038e-01,  1.2727e-01, -1.0565e-01, -1.0497e-01, -1.2136e-01,\n",
       "                      -3.6207e-01,  1.2329e-01, -3.1628e-01, -1.2979e-01,  4.9418e-01,\n",
       "                       8.0097e-02, -1.7340e-01, -1.0468e-01,  1.4746e-01, -1.3749e-01,\n",
       "                       1.7775e-01,  1.1232e-01,  3.9850e-01,  1.8901e-01,  6.8250e-02,\n",
       "                       1.9622e-01,  2.8481e-02, -2.7720e-01,  2.1751e-01, -2.1743e-01,\n",
       "                       7.2096e-02,  4.9433e-01,  5.6409e-02, -1.1427e-01,  1.8365e-01,\n",
       "                       3.1292e-02,  2.0303e-01, -1.5363e-02,  9.1837e-02,  1.4863e-01,\n",
       "                       1.2741e-01, -2.2289e-01,  1.6516e-01,  1.8127e-01, -3.3119e-01,\n",
       "                      -1.7117e-01, -1.5586e-01, -3.7794e-02, -8.8233e-02,  3.9145e-02,\n",
       "                       4.4647e-01, -2.0460e-01,  6.2607e-02, -2.1178e-01,  1.8296e-01,\n",
       "                      -6.1018e-02,  3.8439e-01, -2.7362e-01, -3.8901e-01, -1.1564e-01,\n",
       "                       3.5429e-02,  2.3929e-01,  6.5216e-02, -2.9552e-01,  2.5593e-01,\n",
       "                       2.7273e-01,  4.0430e-01,  6.4381e-02,  2.6797e-02, -3.8817e-02,\n",
       "                      -1.2737e-01,  6.8375e-03, -1.4605e-01, -1.6600e-01,  1.4098e-01,\n",
       "                      -1.4337e-02,  1.2379e-01,  4.3891e-01,  2.1497e-01, -2.1770e-01,\n",
       "                      -1.5380e-01,  6.5017e-02, -1.3727e-01,  1.7281e-01,  4.4107e-01,\n",
       "                      -2.6670e-01,  1.3363e-01, -3.5641e-01,  2.4105e-01,  4.6233e-02,\n",
       "                       4.6852e-02, -2.5167e-01,  2.4099e-01, -1.8812e-01, -3.9813e-02,\n",
       "                       1.7351e-01,  2.1239e-01,  4.5509e-01, -1.5862e-01,  5.7343e-02,\n",
       "                       1.6841e-01,  1.2846e-01,  6.3886e-02,  2.1139e-01,  1.0660e-01,\n",
       "                      -1.9726e-01,  4.4102e-02, -5.1262e-03, -2.3341e-01, -4.4800e-02],\n",
       "                     device='cuda:0')),\n",
       "             ('layer_2.weight',\n",
       "              tensor([[-0.1058,  0.1368, -0.0881,  ...,  0.1426,  0.0911,  0.1166],\n",
       "                      [ 0.1066, -0.1131,  0.1161,  ..., -0.2654, -0.2709, -0.0319],\n",
       "                      [-0.2486,  0.2525, -0.2195,  ...,  0.1123,  0.0270,  0.0785],\n",
       "                      ...,\n",
       "                      [ 0.1629, -0.1027, -0.0757,  ...,  0.2128, -0.0268, -0.1967],\n",
       "                      [-0.1017,  0.3203, -0.0051,  ...,  0.1224,  0.1154,  0.0268],\n",
       "                      [ 0.1747, -0.4332,  0.1688,  ..., -0.1748, -0.2863,  0.0980]],\n",
       "                     device='cuda:0')),\n",
       "             ('layer_2.bias',\n",
       "              tensor([ 0.0076,  0.1054,  0.0046,  0.0856,  0.0836, -0.0203, -0.0058,  0.0016,\n",
       "                       0.0775,  0.0686,  0.0089,  0.0413, -0.0750, -0.2600,  0.1668,  0.0617,\n",
       "                       0.1068,  0.0566,  0.0213, -0.0524,  0.0429, -0.0197, -0.1356,  0.1011,\n",
       "                       0.1605,  0.0825, -0.0584, -0.0745, -0.0214, -0.0721,  0.0765,  0.1307,\n",
       "                      -0.0820,  0.1244, -0.0253,  0.0844,  0.1501,  0.0078,  0.0144,  0.1351,\n",
       "                       0.0012,  0.1877, -0.1569, -0.0154,  0.1122,  0.0192, -0.0359,  0.0567,\n",
       "                       0.0522,  0.0538, -0.0850,  0.2573,  0.0975, -0.0677,  0.1352,  0.0046,\n",
       "                       0.2333,  0.0791,  0.0474, -0.2238,  0.1654,  0.0792,  0.1612, -0.1352,\n",
       "                       0.2139,  0.2392, -0.0696,  0.1016,  0.1232,  0.1998, -0.0760,  0.1385,\n",
       "                       0.1509,  0.1304,  0.1441, -0.1686,  0.2208,  0.1889, -0.1201,  0.1991,\n",
       "                       0.1191,  0.1228,  0.1754,  0.1315,  0.0808,  0.1980, -0.0723,  0.0231,\n",
       "                       0.1691, -0.0158,  0.0145,  0.0012,  0.1578,  0.0326,  0.0030, -0.1324,\n",
       "                       0.0931,  0.0493,  0.0279,  0.0562], device='cuda:0')),\n",
       "             ('layer_3.weight',\n",
       "              tensor([[ 0.2906, -0.3167,  0.3466,  0.3631, -0.3703,  0.3014,  0.2916,  0.3840,\n",
       "                       -0.2916, -0.3285, -0.2920, -0.3004,  0.3451,  0.3096,  0.3656, -0.3550,\n",
       "                        0.3148, -0.3772,  0.2912,  0.0789, -0.2459,  0.3472,  0.3426,  0.4138,\n",
       "                       -0.3222, -0.3669,  0.3982,  0.3111, -0.3444, -0.3175, -0.3031, -0.3753,\n",
       "                        0.3142,  0.3345,  0.3607, -0.3779,  0.3747, -0.2795, -0.2612, -0.3259,\n",
       "                        0.3222, -0.2999,  0.3632,  0.2591, -0.3145, -0.2538, -0.3497, -0.2956,\n",
       "                       -0.2574, -0.3534, -0.3417,  0.3509, -0.3576,  0.3439, -0.2667,  0.3185,\n",
       "                        0.3149, -0.2866, -0.3529,  0.3235, -0.4438,  0.3181, -0.2484,  0.3261,\n",
       "                        0.3424,  0.3135,  0.3027,  0.3800, -0.3319,  0.3014,  0.3127, -0.3674,\n",
       "                       -0.3638,  0.3235,  0.3657,  0.2912,  0.3276,  0.3330,  0.2934, -0.2916,\n",
       "                        0.3732, -0.3262,  0.2887, -0.3497, -0.4145,  0.3727,  0.2761, -0.3646,\n",
       "                        0.3403,  0.3398, -0.3017,  0.3325, -0.2755, -0.3037,  0.3358,  0.3361,\n",
       "                       -0.3289, -0.4125,  0.3351, -0.3586]], device='cuda:0')),\n",
       "             ('layer_3.bias', tensor([0.0031], device='cuda:0'))])"
      ]
     },
     "execution_count": 50,
     "metadata": {},
     "output_type": "execute_result"
    }
   ],
   "source": [
    "model_3.state_dict()"
   ]
  },
  {
   "cell_type": "code",
   "execution_count": null,
   "metadata": {
    "colab": {
     "base_uri": "https://localhost:8080/"
    },
    "id": "JISvyA7fsx07",
    "outputId": "0ad1ed6e-a61d-4f2f-81c1-81501aa0e239"
   },
   "outputs": [
    {
     "name": "stdout",
     "output_type": "stream",
     "text": [
      "Collecting torchserve\n",
      "  Downloading torchserve-0.11.1-py3-none-any.whl.metadata (1.4 kB)\n",
      "Requirement already satisfied: Pillow in /usr/local/lib/python3.10/dist-packages (from torchserve) (9.4.0)\n",
      "Requirement already satisfied: psutil in /usr/local/lib/python3.10/dist-packages (from torchserve) (5.9.5)\n",
      "Requirement already satisfied: packaging in /usr/local/lib/python3.10/dist-packages (from torchserve) (24.1)\n",
      "Requirement already satisfied: wheel in /usr/local/lib/python3.10/dist-packages (from torchserve) (0.43.0)\n",
      "Downloading torchserve-0.11.1-py3-none-any.whl (24.4 MB)\n",
      "\u001b[2K   \u001b[90m━━━━━━━━━━━━━━━━━━━━━━━━━━━━━━━━━━━━━━━━\u001b[0m \u001b[32m24.4/24.4 MB\u001b[0m \u001b[31m71.5 MB/s\u001b[0m eta \u001b[36m0:00:00\u001b[0m\n",
      "\u001b[?25hInstalling collected packages: torchserve\n",
      "Successfully installed torchserve-0.11.1\n"
     ]
    }
   ],
   "source": [
    "!pip install torchserve"
   ]
  },
  {
   "cell_type": "code",
   "execution_count": null,
   "metadata": {
    "id": "r0ZfN2kKk7a7"
   },
   "outputs": [],
   "source": [
    "import ts"
   ]
  },
  {
   "cell_type": "code",
   "execution_count": null,
   "metadata": {
    "id": "qywJrkfoslrm"
   },
   "outputs": [],
   "source": [
    "from ts.handler_utils.timer import timed"
   ]
  },
  {
   "cell_type": "code",
   "execution_count": null,
   "metadata": {
    "colab": {
     "base_uri": "https://localhost:8080/",
     "height": 106
    },
    "id": "BYr30WhAmuQl",
    "outputId": "3485bd14-2b4c-4253-9a5b-a5d4c49c3298"
   },
   "outputs": [
    {
     "ename": "SyntaxError",
     "evalue": "invalid syntax (<ipython-input-10-6e346fda6a1c>, line 1)",
     "output_type": "error",
     "traceback": [
      "\u001b[0;36m  File \u001b[0;32m\"<ipython-input-10-6e346fda6a1c>\"\u001b[0;36m, line \u001b[0;32m1\u001b[0m\n\u001b[0;31m    import ts.torch_handler as ts.torch_handler.handler\u001b[0m\n\u001b[0m                                 ^\u001b[0m\n\u001b[0;31mSyntaxError\u001b[0m\u001b[0;31m:\u001b[0m invalid syntax\n"
     ]
    }
   ],
   "source": [
    "import ts.torch_handler as ts.torch_handler.handler"
   ]
  },
  {
   "cell_type": "code",
   "execution_count": null,
   "metadata": {
    "id": "ZkW8CKNymv-U"
   },
   "outputs": [],
   "source": []
  }
 ],
 "metadata": {
  "accelerator": "GPU",
  "colab": {
   "gpuType": "T4",
   "provenance": []
  },
  "kernelspec": {
   "display_name": "Python 3 (ipykernel)",
   "language": "python",
   "name": "python3"
  },
  "language_info": {
   "codemirror_mode": {
    "name": "ipython",
    "version": 3
   },
   "file_extension": ".py",
   "mimetype": "text/x-python",
   "name": "python",
   "nbconvert_exporter": "python",
   "pygments_lexer": "ipython3",
   "version": "3.11.6"
  }
 },
 "nbformat": 4,
 "nbformat_minor": 4
}
